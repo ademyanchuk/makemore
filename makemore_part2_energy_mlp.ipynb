{
 "cells": [
  {
   "cell_type": "code",
   "execution_count": 1,
   "metadata": {},
   "outputs": [],
   "source": [
    "# Per recomendation to read and try things from this paper https://www.jmlr.org/papers/volume3/bengio03a/bengio03a.pdf\n",
    "# Here is my attempt to implement an Energy Minimization Network [from part 5. Extensions and Future Work]\n",
    "# Authors postulate the original neural language model extend last layer into full vocab (which can be very large)\n",
    "# and don't utilize semantic or syntactic sumilarities between output words.\n",
    "# In essence this energy function we want to learn utilizing same idea of emeding space but extends to use target word/character\n",
    "# to produce energy score of the sentence/sequence.\n",
    "# Example with context=3\n",
    "# eg. E(wt-2, wt-1, wt) = v.tanh(d + Hx) + sum(bwt, bwt-1, bwt-2) = formula of energy score\n",
    "# x = (C(wt), C(wt-1), C(wt-2)); note: target word/char included\n",
    "# E - energy score of the sequence, w - word/character, x - concatenation of embedings, C - lookup matrix,\n",
    "# tanh(d + Hx) - neural net hidden layer, v - projection vector to get score via dot product,\n",
    "# b - biases for all words/characters.\n",
    "# E(wt-2, wt-1, wt)  is interpreted as unnormalized log-probability for the joint occurence of (wt-2, wt-1, wt),\n",
    "# To obtain a conditional prob P(wt|sequence before wt) we need to normalize over all possible values of wt (our case 27 possible chars)\n",
    "# P(wt|sequence before wt) = exp(-E(wt-2, wt-1, wt)) / sum(exp(-E(wt-2, wt-1, i)))\n",
    "# and finally we can learn set of weights with gradient descent minimizing -log(P(wt|sequence before wt))"
   ]
  },
  {
   "cell_type": "code",
   "execution_count": 2,
   "metadata": {},
   "outputs": [],
   "source": [
    "import torch\n",
    "import torch.nn.functional as F\n",
    "import matplotlib.pyplot as plt # for making figures\n",
    "%matplotlib inline"
   ]
  },
  {
   "cell_type": "code",
   "execution_count": 3,
   "metadata": {},
   "outputs": [
    {
     "data": {
      "text/plain": [
       "['emma', 'olivia', 'ava', 'isabella', 'sophia', 'charlotte', 'mia', 'amelia']"
      ]
     },
     "execution_count": 3,
     "metadata": {},
     "output_type": "execute_result"
    }
   ],
   "source": [
    "# read in all the words\n",
    "words = open('names.txt', 'r').read().splitlines()\n",
    "words[:8]"
   ]
  },
  {
   "cell_type": "code",
   "execution_count": 4,
   "metadata": {},
   "outputs": [
    {
     "data": {
      "text/plain": [
       "32033"
      ]
     },
     "execution_count": 4,
     "metadata": {},
     "output_type": "execute_result"
    }
   ],
   "source": [
    "len(words)"
   ]
  },
  {
   "cell_type": "code",
   "execution_count": 5,
   "metadata": {},
   "outputs": [
    {
     "name": "stdout",
     "output_type": "stream",
     "text": [
      "{1: 'a', 2: 'b', 3: 'c', 4: 'd', 5: 'e', 6: 'f', 7: 'g', 8: 'h', 9: 'i', 10: 'j', 11: 'k', 12: 'l', 13: 'm', 14: 'n', 15: 'o', 16: 'p', 17: 'q', 18: 'r', 19: 's', 20: 't', 21: 'u', 22: 'v', 23: 'w', 24: 'x', 25: 'y', 26: 'z', 0: '.'}\n"
     ]
    }
   ],
   "source": [
    "# build the vocabulary of characters and mappings to/from integers\n",
    "chars = sorted(list(set(''.join(words))))\n",
    "stoi = {s:i+1 for i,s in enumerate(chars)}\n",
    "stoi['.'] = 0\n",
    "itos = {i:s for s,i in stoi.items()}\n",
    "print(itos)"
   ]
  },
  {
   "cell_type": "code",
   "execution_count": 6,
   "metadata": {},
   "outputs": [
    {
     "name": "stdout",
     "output_type": "stream",
     "text": [
      "... ---> e\n",
      "..e ---> m\n",
      ".em ---> m\n",
      "emm ---> a\n",
      "mma ---> .\n",
      "... ---> o\n",
      "..o ---> l\n",
      ".ol ---> i\n",
      "oli ---> v\n",
      "liv ---> i\n",
      "ivi ---> a\n",
      "via ---> .\n",
      "... ---> a\n",
      "..a ---> v\n",
      ".av ---> a\n",
      "ava ---> .\n"
     ]
    }
   ],
   "source": [
    "# build the dataset\n",
    "\n",
    "block_size = 3 # context length: how many characters do we take to predict the next one?\n",
    "X, Y = [], []\n",
    "for w in words[:3]:\n",
    "  \n",
    "  #print(w)\n",
    "  context = [0] * block_size\n",
    "  for ch in w + '.':\n",
    "    ix = stoi[ch]\n",
    "    X.append(context)\n",
    "    Y.append(ix)\n",
    "    print(''.join(itos[i] for i in context), '--->', itos[ix])\n",
    "    context = context[1:] + [ix] # crop and append\n",
    "  \n",
    "X = torch.tensor(X)\n",
    "Y = torch.tensor(Y)"
   ]
  },
  {
   "cell_type": "code",
   "execution_count": 7,
   "metadata": {},
   "outputs": [
    {
     "data": {
      "text/plain": [
       "(torch.Size([3]), torch.Size([]))"
      ]
     },
     "execution_count": 7,
     "metadata": {},
     "output_type": "execute_result"
    }
   ],
   "source": [
    "# Lets work through single example\n",
    "x, y = X[2], Y[2]\n",
    "x.shape, y.shape"
   ]
  },
  {
   "cell_type": "code",
   "execution_count": 8,
   "metadata": {},
   "outputs": [],
   "source": [
    "C = torch.randn((27, 2)) * (1/27)**0.5"
   ]
  },
  {
   "cell_type": "code",
   "execution_count": 9,
   "metadata": {},
   "outputs": [
    {
     "data": {
      "text/plain": [
       "torch.Size([27, 8])"
      ]
     },
     "execution_count": 9,
     "metadata": {},
     "output_type": "execute_result"
    }
   ],
   "source": [
    "# for one example we want to compute energy score for all possible target characters\n",
    "# this repeats the embedings of context and concatenates all possible target character embedings to it\n",
    "embs = torch.concat((C[x].view(-1, 6).repeat(27, 1), C), 1)\n",
    "embs.shape"
   ]
  },
  {
   "cell_type": "code",
   "execution_count": 10,
   "metadata": {},
   "outputs": [],
   "source": [
    "H = torch.randn((8, 100)) * (1/8)**0.5 # target is in the sequence\n",
    "d = torch.randn(100) * (1/100)**0.5\n",
    "v = torch.randn(100) * (1/100)**0.5\n",
    "b = torch.randn(27) * (1/27)**0.5"
   ]
  },
  {
   "cell_type": "code",
   "execution_count": 11,
   "metadata": {},
   "outputs": [],
   "source": [
    "# pass through hidden layer\n",
    "h = torch.tanh(embs @ H + d)"
   ]
  },
  {
   "cell_type": "code",
   "execution_count": 12,
   "metadata": {},
   "outputs": [
    {
     "data": {
      "text/plain": [
       "torch.Size([27, 100])"
      ]
     },
     "execution_count": 12,
     "metadata": {},
     "output_type": "execute_result"
    }
   ],
   "source": [
    "h.shape"
   ]
  },
  {
   "cell_type": "code",
   "execution_count": 13,
   "metadata": {},
   "outputs": [],
   "source": [
    "# this computes energy for our example context + all possible (27) following characters\n",
    "e = h @ v + b # we add corresponding biases 0 -> 0, 1 -> 1 and so on"
   ]
  },
  {
   "cell_type": "code",
   "execution_count": 14,
   "metadata": {},
   "outputs": [
    {
     "data": {
      "text/plain": [
       "tensor(1.0000)"
      ]
     },
     "execution_count": 14,
     "metadata": {},
     "output_type": "execute_result"
    }
   ],
   "source": [
    "torch.softmax(e, 0).sum() # if we softmax it sums to 1., as expected"
   ]
  },
  {
   "cell_type": "code",
   "execution_count": 15,
   "metadata": {},
   "outputs": [
    {
     "data": {
      "text/plain": [
       "tensor(2.9603)"
      ]
     },
     "execution_count": 15,
     "metadata": {},
     "output_type": "execute_result"
    }
   ],
   "source": [
    "# we can check loss X-entropy = logsoftmax + nll\n",
    "F.cross_entropy(e, y)"
   ]
  },
  {
   "cell_type": "code",
   "execution_count": 16,
   "metadata": {},
   "outputs": [
    {
     "data": {
      "text/plain": [
       "tensor(3.2958)"
      ]
     },
     "execution_count": 16,
     "metadata": {},
     "output_type": "execute_result"
    }
   ],
   "source": [
    "-torch.log(torch.tensor(1/27))"
   ]
  },
  {
   "cell_type": "code",
   "execution_count": 17,
   "metadata": {},
   "outputs": [
    {
     "data": {
      "text/plain": [
       "(torch.Size([16, 3]), torch.Size([16]))"
      ]
     },
     "execution_count": 17,
     "metadata": {},
     "output_type": "execute_result"
    }
   ],
   "source": [
    "# We want to work with batches eventually\n",
    "X.shape, Y.shape"
   ]
  },
  {
   "cell_type": "code",
   "execution_count": 18,
   "metadata": {},
   "outputs": [],
   "source": [
    "emb = C[X].view(-1, 6)"
   ]
  },
  {
   "cell_type": "code",
   "execution_count": 19,
   "metadata": {},
   "outputs": [],
   "source": [
    "emb_exp = emb.unsqueeze(1).repeat(1, C.shape[0], 1) # Shape [16, 27, 6]"
   ]
  },
  {
   "cell_type": "code",
   "execution_count": 20,
   "metadata": {},
   "outputs": [],
   "source": [
    "C_exp = C.unsqueeze(0).expand(X.shape[0], -1, -1)  # Shape [16, 27, 2]"
   ]
  },
  {
   "cell_type": "code",
   "execution_count": 21,
   "metadata": {},
   "outputs": [],
   "source": [
    "emb_all = torch.cat((emb_exp, C_exp), -1) # Shape [16, 27, 8]"
   ]
  },
  {
   "cell_type": "code",
   "execution_count": 22,
   "metadata": {},
   "outputs": [],
   "source": [
    "# pass through hidden layer\n",
    "h = torch.tanh(emb_all @ H + d) # Shape [16, 27, 100]"
   ]
  },
  {
   "cell_type": "code",
   "execution_count": 23,
   "metadata": {},
   "outputs": [],
   "source": [
    "# this computes energy for our example context + all possible (27) following characters\n",
    "e = h @ v + b # we add corresponding biases 0 -> 0, 1 -> 1 and so on, Shape [16, 27]"
   ]
  },
  {
   "cell_type": "code",
   "execution_count": 24,
   "metadata": {},
   "outputs": [
    {
     "data": {
      "text/plain": [
       "tensor(1.0000)"
      ]
     },
     "execution_count": 24,
     "metadata": {},
     "output_type": "execute_result"
    }
   ],
   "source": [
    "torch.softmax(e, 1)[0].sum() # if we softmax it sums to 1., as expected"
   ]
  },
  {
   "cell_type": "code",
   "execution_count": 25,
   "metadata": {},
   "outputs": [
    {
     "data": {
      "text/plain": [
       "tensor(3.2547)"
      ]
     },
     "execution_count": 25,
     "metadata": {},
     "output_type": "execute_result"
    }
   ],
   "source": [
    "# we can check loss X-entropy = logsoftmax + nll\n",
    "F.cross_entropy(e, Y)"
   ]
  },
  {
   "cell_type": "code",
   "execution_count": 26,
   "metadata": {},
   "outputs": [
    {
     "name": "stdout",
     "output_type": "stream",
     "text": [
      "torch.Size([182546, 3]) torch.Size([182546])\n",
      "torch.Size([22840, 3]) torch.Size([22840])\n",
      "torch.Size([22760, 3]) torch.Size([22760])\n"
     ]
    }
   ],
   "source": [
    "# build the dataset\n",
    "block_size = 3 # context length: how many characters do we take to predict the next one?\n",
    "\n",
    "def build_dataset(words):  \n",
    "  X, Y = [], []\n",
    "  for w in words:\n",
    "\n",
    "    #print(w)\n",
    "    context = [0] * block_size\n",
    "    for ch in w + '.':\n",
    "      ix = stoi[ch]\n",
    "      X.append(context)\n",
    "      Y.append(ix)\n",
    "      #print(''.join(itos[i] for i in context), '--->', itos[ix])\n",
    "      context = context[1:] + [ix] # crop and append\n",
    "\n",
    "  X = torch.tensor(X)\n",
    "  Y = torch.tensor(Y)\n",
    "  print(X.shape, Y.shape)\n",
    "  return X, Y\n",
    "\n",
    "import random\n",
    "r = random.Random(2147483647)\n",
    "r.shuffle(words)\n",
    "n1 = int(0.8*len(words))\n",
    "n2 = int(0.9*len(words))\n",
    "\n",
    "Xtr, Ytr = build_dataset(words[:n1])\n",
    "Xdev, Ydev = build_dataset(words[n1:n2])\n",
    "Xte, Yte = build_dataset(words[n2:])\n"
   ]
  },
  {
   "cell_type": "code",
   "execution_count": 27,
   "metadata": {},
   "outputs": [
    {
     "data": {
      "text/plain": [
       "(['khole', 'harbour', 'devon', 'baine', 'erisha'],\n",
       " ['shterna', 'tyanna', 'sarra', 'malachy', 'zenaya'],\n",
       " ['phoenyx', 'christionna', 'bastien', 'niloufar', 'masa'])"
      ]
     },
     "execution_count": 27,
     "metadata": {},
     "output_type": "execute_result"
    }
   ],
   "source": [
    "words[:n1][:5], words[n1:n2][:5], words[n2:][:5]"
   ]
  },
  {
   "cell_type": "code",
   "execution_count": 28,
   "metadata": {},
   "outputs": [],
   "source": [
    "# ------------ now made respectable :) ---------------"
   ]
  },
  {
   "cell_type": "code",
   "execution_count": 65,
   "metadata": {},
   "outputs": [
    {
     "data": {
      "text/plain": [
       "(torch.Size([182546, 3]), torch.Size([182546]))"
      ]
     },
     "execution_count": 65,
     "metadata": {},
     "output_type": "execute_result"
    }
   ],
   "source": [
    "Xtr.shape, Ytr.shape # dataset"
   ]
  },
  {
   "cell_type": "code",
   "execution_count": 66,
   "metadata": {},
   "outputs": [],
   "source": [
    "g = torch.Generator().manual_seed(2147483647) # for reproducibility\n",
    "emb_size = 10\n",
    "hid_size = 512\n",
    "C = torch.randn((27, emb_size), generator=g) * (1/27)**0.5\n",
    "H = torch.randn((emb_size * (block_size + 1), hid_size), generator=g) * (1/(emb_size * (block_size + 1)))**0.5\n",
    "d = torch.randn(hid_size, generator=g) * (1/hid_size)**0.5\n",
    "v = torch.randn(hid_size, generator=g) * (1/hid_size)**0.5\n",
    "b = torch.randn(27, generator=g) * (1/27)**0.5\n",
    "parameters = [C, H, d, v, b]"
   ]
  },
  {
   "cell_type": "code",
   "execution_count": 67,
   "metadata": {},
   "outputs": [
    {
     "data": {
      "text/plain": [
       "21801"
      ]
     },
     "execution_count": 67,
     "metadata": {},
     "output_type": "execute_result"
    }
   ],
   "source": [
    "sum(p.nelement() for p in parameters) # number of parameters in total"
   ]
  },
  {
   "cell_type": "code",
   "execution_count": 68,
   "metadata": {},
   "outputs": [],
   "source": [
    "for p in parameters:\n",
    "  p.requires_grad = True"
   ]
  },
  {
   "cell_type": "code",
   "execution_count": 50,
   "metadata": {},
   "outputs": [],
   "source": [
    "lre = torch.linspace(-6, 0, 1000)\n",
    "lrs = 10**lre"
   ]
  },
  {
   "cell_type": "code",
   "execution_count": 51,
   "metadata": {},
   "outputs": [],
   "source": [
    "# find learning rate\n",
    "lri = []\n",
    "lossi = []\n",
    "bs = 256\n",
    "C_exp = C.unsqueeze(0).expand(bs, -1, -1)  # Shape [bs, 27, emb_size]\n",
    "\n",
    "for i in range(1000):\n",
    "  \n",
    "  # forward pass\n",
    "  # minibatch construct (use same batch sequencies across experiments)\n",
    "  ix = torch.randint(0, Xtr.shape[0], (bs,), generator=g)\n",
    "  \n",
    "  # forward pass\n",
    "  emb = C[Xtr[ix]].view(bs, -1) # Shape [bs, block size *embeeding size]\n",
    "  emb_exp = emb.unsqueeze(1).repeat(1, C.shape[0], 1) # Shape [bs, 27, block_size * emb_size]\n",
    "  emb_all = torch.cat((emb_exp, C_exp), -1) # Shape [bs, 27, (block_size + 1)*emb_size]\n",
    "  \n",
    "  h = torch.tanh(emb_all @ H + d) # Shape [bs, 27, hid_dim]\n",
    "  logits = h @ v + b # Shape [bs, 27]\n",
    "  loss = F.cross_entropy(logits, Ytr[ix])\n",
    "  #print(loss.item())\n",
    "  \n",
    "  # backward pass\n",
    "  for p in parameters:\n",
    "    p.grad = None\n",
    "  loss.backward()\n",
    "  \n",
    "  # update\n",
    "  lr = lrs[i]\n",
    "  for p in parameters:\n",
    "    p.data += -lr * p.grad\n",
    "\n",
    "  # track stats\n",
    "  lri.append(lre[i])\n",
    "  lossi.append(loss.item())\n",
    "\n",
    "#print(loss.item())"
   ]
  },
  {
   "cell_type": "code",
   "execution_count": 52,
   "metadata": {},
   "outputs": [
    {
     "data": {
      "text/plain": [
       "[<matplotlib.lines.Line2D at 0x2603639d290>]"
      ]
     },
     "execution_count": 52,
     "metadata": {},
     "output_type": "execute_result"
    },
    {
     "data": {
      "image/png": "[encoded data removed]",
      "text/plain": [
       "<Figure size 640x480 with 1 Axes>"
      ]
     },
     "metadata": {},
     "output_type": "display_data"
    }
   ],
   "source": [
    "plt.plot(lri, lossi)"
   ]
  },
  {
   "cell_type": "code",
   "execution_count": 69,
   "metadata": {},
   "outputs": [],
   "source": [
    "lossi = []\n",
    "reg_strength = 1.0\n",
    "bs = 128\n",
    "\n",
    "C_exp = C.unsqueeze(0).expand(bs, -1, -1)  # Shape [bs, 27, emb_size]\n",
    "\n",
    "for i in range(200000):\n",
    "  \n",
    "  # minibatch construct (use same batch sequencies across experiments)\n",
    "  ix = torch.randint(0, Xtr.shape[0], (bs,), generator=g)\n",
    "  \n",
    "  # forward pass\n",
    "  emb = C[Xtr[ix]].view(bs, -1) # Shape [bs, block size *embeeding size]\n",
    "  emb_exp = emb.unsqueeze(1).repeat(1, C.shape[0], 1) # Shape [bs, 27, block_size * emb_size]\n",
    "  emb_all = torch.cat((emb_exp, C_exp), -1) # Shape [bs, 27, (block_size + 1)*emb_size]\n",
    "  \n",
    "  h = torch.tanh(emb_all @ H + d) # Shape [bs, 27, hid_dim]\n",
    "  logits = h @ v + b # Shape [bs, 27]\n",
    "  reg_loss = 0.5 * reg_strength * sum([(p**2).mean() for p in parameters]) # const 0.5 for better gradient = reg_strength * p\n",
    "  loss = F.cross_entropy(logits, Ytr[ix]) + reg_loss\n",
    "  #print(loss.item())\n",
    "  \n",
    "  # backward pass\n",
    "  for p in parameters:\n",
    "    p.grad = None\n",
    "  loss.backward()\n",
    "  \n",
    "  # update\n",
    "  lr = 0.2 if i < 100000 else 0.02\n",
    "  for p in parameters:\n",
    "    p.data += -lr * p.grad\n",
    "\n",
    "  # track stats\n",
    "  #lri.append(lre[i])\n",
    "  lossi.append(loss.log10().item())\n",
    "\n",
    "#print(loss.item())"
   ]
  },
  {
   "cell_type": "code",
   "execution_count": 70,
   "metadata": {},
   "outputs": [
    {
     "data": {
      "text/plain": [
       "[<matplotlib.lines.Line2D at 0x26036ad5050>]"
      ]
     },
     "execution_count": 70,
     "metadata": {},
     "output_type": "execute_result"
    },
    {
     "data": {
      "image/png": "[encoded data removed]",
      "text/plain": [
       "<Figure size 640x480 with 1 Axes>"
      ]
     },
     "metadata": {},
     "output_type": "display_data"
    }
   ],
   "source": [
    "plt.plot(lossi)"
   ]
  },
  {
   "cell_type": "code",
   "execution_count": 59,
   "metadata": {},
   "outputs": [
    {
     "name": "stdout",
     "output_type": "stream",
     "text": [
      "tensor(2.1089)\n"
     ]
    }
   ],
   "source": [
    "with torch.no_grad():\n",
    "  C_exp = C.unsqueeze(0).expand(Xtr.shape[0], -1, -1)  # Shape [bs, 27, emb_size]\n",
    "  emb = C[Xtr].view(Xtr.shape[0], -1) # Shape [bs, block size *embeeding size]\n",
    "  emb_exp = emb.unsqueeze(1).repeat(1, C.shape[0], 1) # Shape [bs, 27, block_size * emb_size]\n",
    "  emb_all = torch.cat((emb_exp, C_exp), -1) # Shape [bs, 27, (block_size + 1)*emb_size]\n",
    "  \n",
    "  h = torch.tanh(emb_all @ H + d) # Shape [bs, 27, hid_dim]\n",
    "  logits = h @ v + b # Shape [bs, 27]\n",
    "  loss = F.cross_entropy(logits, Ytr)\n",
    "  print(loss)"
   ]
  },
  {
   "cell_type": "code",
   "execution_count": 60,
   "metadata": {},
   "outputs": [
    {
     "name": "stdout",
     "output_type": "stream",
     "text": [
      "tensor(2.1479)\n"
     ]
    }
   ],
   "source": [
    "with torch.no_grad():\n",
    "  C_exp = C.unsqueeze(0).expand(Xdev.shape[0], -1, -1)  # Shape [bs, 27, emb_size]\n",
    "  emb = C[Xdev].view(Xdev.shape[0], -1) # Shape [bs, block size *embeeding size]\n",
    "  emb_exp = emb.unsqueeze(1).repeat(1, C.shape[0], 1) # Shape [bs, 27, block_size * emb_size]\n",
    "  emb_all = torch.cat((emb_exp, C_exp), -1) # Shape [bs, 27, (block_size + 1)*emb_size]\n",
    "  \n",
    "  h = torch.tanh(emb_all @ H + d) # Shape [bs, 27, hid_dim]\n",
    "  logits = h @ v + b # Shape [bs, 27]\n",
    "  loss = F.cross_entropy(logits, Ydev)\n",
    "  print(loss)"
   ]
  },
  {
   "cell_type": "code",
   "execution_count": 61,
   "metadata": {},
   "outputs": [
    {
     "name": "stdout",
     "output_type": "stream",
     "text": [
      "tensor(2.1380)\n"
     ]
    }
   ],
   "source": [
    "with torch.no_grad():\n",
    "  C_exp = C.unsqueeze(0).expand(Xte.shape[0], -1, -1)  # Shape [bs, 27, emb_size]\n",
    "  emb = C[Xte].view(Xte.shape[0], -1) # Shape [bs, block size *embeeding size]\n",
    "  emb_exp = emb.unsqueeze(1).repeat(1, C.shape[0], 1) # Shape [bs, 27, block_size * emb_size]\n",
    "  emb_all = torch.cat((emb_exp, C_exp), -1) # Shape [bs, 27, (block_size + 1)*emb_size]\n",
    "  \n",
    "  h = torch.tanh(emb_all @ H + d) # Shape [bs, 27, hid_dim]\n",
    "  logits = h @ v + b # Shape [bs, 27]\n",
    "  loss = F.cross_entropy(logits, Yte)\n",
    "  print(loss)"
   ]
  },
  {
   "cell_type": "code",
   "execution_count": 71,
   "metadata": {},
   "outputs": [
    {
     "data": {
      "text/plain": [
       "tensor([-0.0044,  0.0016,  0.0021, -0.0012,  0.0011,  0.0016,  0.0029, -0.0005,\n",
       "        -0.0005, -0.0060, -0.0036,  0.0013,  0.0002,  0.0013,  0.0018,  0.0023,\n",
       "        -0.0063, -0.0009, -0.0032,  0.0065,  0.0048,  0.0025, -0.0057,  0.0042,\n",
       "        -0.0086,  0.0079, -0.0011], requires_grad=True)"
      ]
     },
     "execution_count": 71,
     "metadata": {},
     "output_type": "execute_result"
    }
   ],
   "source": [
    "# bias b corresponds to unconditional probabilities of characters also makes sense in this regard\n",
    "b"
   ]
  },
  {
   "cell_type": "code",
   "execution_count": 215,
   "metadata": {},
   "outputs": [
    {
     "data": {
      "image/png": "[encoded data removed]",
      "text/plain": [
       "<Figure size 800x800 with 1 Axes>"
      ]
     },
     "metadata": {},
     "output_type": "display_data"
    }
   ],
   "source": [
    "# visualize dimensions 0 and 1 of the embedding matrix C for all characters\n",
    "# using energy based network we learned reasonable 2d embedings.\n",
    "plt.figure(figsize=(8,8))\n",
    "plt.scatter(C[:,0].data, C[:,1].data, s=200)\n",
    "for i in range(C.shape[0]):\n",
    "    plt.text(C[i,0].item(), C[i,1].item(), itos[i], ha=\"center\", va=\"center\", color='white')\n",
    "plt.grid('minor')"
   ]
  },
  {
   "cell_type": "code",
   "execution_count": 72,
   "metadata": {},
   "outputs": [
    {
     "data": {
      "text/plain": [
       "torch.Size([1, 3, 10])"
      ]
     },
     "execution_count": 72,
     "metadata": {},
     "output_type": "execute_result"
    }
   ],
   "source": [
    "context = [0] * block_size\n",
    "C[torch.tensor([context])].shape"
   ]
  },
  {
   "cell_type": "code",
   "execution_count": 73,
   "metadata": {},
   "outputs": [
    {
     "name": "stdout",
     "output_type": "stream",
     "text": [
      "guwjdvdipkcqaz.\n",
      "e.\n",
      "tfqywocnzqfjiirltozcogsjgwzvudlhnpauyjbilevhajkdbduinrwibtlzsnjyievyvaftbzffvmumthyfodtumjrpfytszwjhrjagq.\n",
      "aoreaysezocfkyjjabdywejfmoifmwyfinwagaasnhsvfihofszxhddgosfmptpagicz.\n",
      "ujpiufmthdt.\n",
      "rkrrsru.\n",
      "tyumuyfy.\n",
      "tjekujcbkhvupwyhvpvhvccragr.\n",
      "hdkhwfdztta.\n",
      "yplyisbxlyhuuiqzavmpocbzthqmimvyqwat.\n",
      "l.\n",
      "endxjxfpvslqtikyzsaloevgvvnundewkfmbjzqegruxiteaxchwtmurzsodridcdznojvaliypvrghvxtezrwguciqqvywhqelvsviosvhibdhnceukgmtmwboscnbzoiwupnwnpipixtewbgsgyewfdacbfcxrvjypkmsbranmjrdsydotafvkdkbdepihzpwzsqdab.\n",
      "vfuolwbasrtugttbiqbujfdtskceqjtcdlcndfujqllsppgkltalmlokdmsl.\n",
      "dddmxjv.\n",
      "rfsgxmw.\n",
      "ydihkvngtojvrdsyqivcob.\n",
      "lziengogtjvnvqgfjtkqufrxfjlwglykiiluohgnoiuwzylq.\n",
      "lsgircvmhtipagkxwvjypnsriadmfujnlkcicvatjvryzeljxkbrlrjsp.\n",
      "uuybxzhwuejbiotzqpxrkbhhhgsivfjblaklxoivwqjpdkucftazqgwslvrvqcqmbadayrgufbalqdoumwytowbzqzrvbddvlhqn.\n",
      "kvhztsmltmpcxnikfn.\n"
     ]
    }
   ],
   "source": [
    "\n",
    "\n",
    "# sample from the model\n",
    "g = torch.Generator().manual_seed(2147483647)\n",
    "\n",
    "for _ in range(20):\n",
    "    \n",
    "    out = []\n",
    "    context = [0] * block_size # initialize with all ...\n",
    "    # sample first character [like y for our energy minimization network]\n",
    "    yix = torch.randint(low=1, high=26, size=(1,), generator=g).item()\n",
    "    out.append(yix)\n",
    "    context.append(yix)\n",
    "    while True:\n",
    "      emb = C[torch.tensor([context])]\n",
    "      h = torch.tanh(emb.view(1,-1) @ H + d) # Shape [bs, 27, hid_dim]\n",
    "      logits = h @ v + b # Shape [bs, 27]\n",
    "      probs = F.softmax(logits, dim=0)\n",
    "      ix = torch.multinomial(probs, num_samples=1, generator=g).item()\n",
    "      context = context[1:] + [ix]\n",
    "      out.append(ix)\n",
    "      if ix == 0:\n",
    "        break\n",
    "    \n",
    "    print(''.join(itos[i] for i in out))"
   ]
  },
  {
   "cell_type": "code",
   "execution_count": null,
   "metadata": {},
   "outputs": [],
   "source": []
  }
 ],
 "metadata": {
  "kernelspec": {
   "display_name": "Python 3 (ipykernel)",
   "language": "python",
   "name": "python3"
  },
  "language_info": {
   "codemirror_mode": {
    "name": "ipython",
    "version": 3
   },
   "file_extension": ".py",
   "mimetype": "text/x-python",
   "name": "python",
   "nbconvert_exporter": "python",
   "pygments_lexer": "ipython3",
   "version": "3.11.9"
  }
 },
 "nbformat": 4,
 "nbformat_minor": 4
}
