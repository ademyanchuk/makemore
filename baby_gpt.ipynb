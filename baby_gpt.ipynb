{
 "cells": [
  {
   "cell_type": "code",
   "execution_count": 1,
   "id": "bb36da93-1549-4ba3-983b-b0072c2e18a9",
   "metadata": {},
   "outputs": [],
   "source": [
    "# Work on reimplementing Andrej Karpathy's nano-gpt from this video\n",
    "# https://youtu.be/kCc8FmEb1nY?si=cdnNJrPwDEPQPn0C"
   ]
  },
  {
   "cell_type": "code",
   "execution_count": 15,
   "id": "8f8b0799-2eb2-4476-b042-03d9b2197203",
   "metadata": {},
   "outputs": [],
   "source": [
    "import torch\n",
    "import torch.nn.functional as F\n",
    "import torch.nn as nn\n",
    "import matplotlib.pyplot as plt # for making figures\n",
    "%matplotlib inline"
   ]
  },
  {
   "cell_type": "code",
   "execution_count": 3,
   "id": "c7d33324-f131-4daf-8e9b-630f9ab3dec4",
   "metadata": {},
   "outputs": [],
   "source": [
    "# load data\n",
    "with open(\"input.txt\", mode='r') as f:\n",
    "  words = f.read()"
   ]
  },
  {
   "cell_type": "code",
   "execution_count": 4,
   "id": "72a207b2-bbe0-429e-9e6d-62b0bc4e43db",
   "metadata": {},
   "outputs": [
    {
     "name": "stdout",
     "output_type": "stream",
     "text": [
      "1115394\n",
      "First Citizen:\n",
      "Before we proceed any further, hear me speak.\n",
      "\n",
      "All:\n",
      "Speak, speak.\n",
      "\n",
      "First Citizen:\n",
      "You are all resolved rather to die than to famish?\n",
      "\n",
      "All:\n",
      "Resolved. resolved.\n",
      "\n",
      "First Citizen:\n",
      "First, you know Caius Marcius is chief enemy to the people.\n",
      "\n",
      "All:\n",
      "We know't, we know't.\n",
      "\n",
      "First Citizen:\n",
      "Let us kill him, and we'll have corn at our own price.\n",
      "Is't a verdict?\n",
      "\n",
      "All:\n",
      "No more talking on't; let it be done: away, away!\n",
      "\n",
      "Second Citizen:\n",
      "One word, good citizens.\n",
      "\n",
      "First Citizen:\n",
      "We are accounted poor citizens, the patricians good.\n",
      "What authority surfeits on would relieve us: if they\n",
      "would yield us but the superfluity, while it were\n",
      "wholesome, we might guess they relieved us humanely;\n",
      "but they think we are too dear: the leanness that\n",
      "afflicts us, the object of our misery, is as an\n",
      "inventory to particularise their abundance; our\n",
      "sufferance is a gain to them Let us revenge this with\n",
      "our pikes, ere we become rakes: for the gods know I\n",
      "speak this in hunger for bread, not in thirst for revenge.\n",
      "\n",
      "\n"
     ]
    }
   ],
   "source": [
    "print(len(words))\n",
    "print(words[:1000])"
   ]
  },
  {
   "cell_type": "code",
   "execution_count": 13,
   "id": "96ffde2f-6d2a-4b72-9673-ce5a0cd24401",
   "metadata": {},
   "outputs": [
    {
     "name": "stdout",
     "output_type": "stream",
     "text": [
      "65\n",
      "['\\n', ' ', '!', '$', '&', \"'\", ',', '-', '.', '3', ':', ';', '?', 'A', 'B', 'C', 'D', 'E', 'F', 'G', 'H', 'I', 'J', 'K', 'L', 'M', 'N', 'O', 'P', 'Q', 'R', 'S', 'T', 'U', 'V', 'W', 'X', 'Y', 'Z', 'a', 'b', 'c', 'd', 'e', 'f', 'g', 'h', 'i', 'j', 'k', 'l', 'm', 'n', 'o', 'p', 'q', 'r', 's', 't', 'u', 'v', 'w', 'x', 'y', 'z']\n"
     ]
    }
   ],
   "source": [
    "# vocab\n",
    "vocab = sorted(set(words))\n",
    "vocab_size = len(vocab)\n",
    "print(vocab_size)\n",
    "print(vocab)"
   ]
  },
  {
   "cell_type": "code",
   "execution_count": 10,
   "id": "2ca03120-fbb5-4281-ad4a-3418514e335f",
   "metadata": {},
   "outputs": [
    {
     "data": {
      "text/plain": [
       "'Is it working?'"
      ]
     },
     "execution_count": 10,
     "metadata": {},
     "output_type": "execute_result"
    }
   ],
   "source": [
    "# simple character level tokenization\n",
    "stoi = {c:i for i,c in enumerate(vocab)}\n",
    "itos = {i:c for i,c in enumerate(vocab)}\n",
    "# encode and decode functions\n",
    "encode = lambda s: [stoi[c] for c in s]\n",
    "decode = lambda l: ''.join([itos[i] for i in l])\n",
    "\n",
    "decode(encode('Is it working?'))"
   ]
  },
  {
   "cell_type": "code",
   "execution_count": 21,
   "id": "18e2e876-acf3-49ff-ae29-e82e05fd1667",
   "metadata": {},
   "outputs": [
    {
     "name": "stdout",
     "output_type": "stream",
     "text": [
      "train size: 1003854, test size: 111540\n"
     ]
    }
   ],
   "source": [
    "# train/validation split\n",
    "n = int(0.9 * len(words))\n",
    "train = words[:n]\n",
    "test = words[n:]\n",
    "print(f'train size: {len(train)}, test size: {len(test)}')"
   ]
  },
  {
   "cell_type": "code",
   "execution_count": 22,
   "id": "2993aecf-85d7-4b44-9b9a-1f08ba8b13bd",
   "metadata": {},
   "outputs": [],
   "source": [
    "# we'd like to use torch tensors for training NNs\n",
    "train = torch.tensor(encode(train), dtype=torch.long)\n",
    "test = torch.tensor(encode(test), dtype=torch.long)"
   ]
  },
  {
   "cell_type": "code",
   "execution_count": 23,
   "id": "cbe65f53-05b9-4940-96f5-6334963fe24d",
   "metadata": {},
   "outputs": [
    {
     "name": "stdout",
     "output_type": "stream",
     "text": [
      "tensor([18, 47, 56, 57, 58,  1, 15, 47, 58])\n",
      "for input context: tensor([18]) target is: 47\n",
      "for input context: tensor([18, 47]) target is: 56\n",
      "for input context: tensor([18, 47, 56]) target is: 57\n",
      "for input context: tensor([18, 47, 56, 57]) target is: 58\n",
      "for input context: tensor([18, 47, 56, 57, 58]) target is: 1\n",
      "for input context: tensor([18, 47, 56, 57, 58,  1]) target is: 15\n",
      "for input context: tensor([18, 47, 56, 57, 58,  1, 15]) target is: 47\n",
      "for input context: tensor([18, 47, 56, 57, 58,  1, 15, 47]) target is: 58\n"
     ]
    }
   ],
   "source": [
    "# context size = one sampled block gives us block_size of examples to train on\n",
    "block_size = 8\n",
    "block = train[:block_size+1]\n",
    "print(block)\n",
    "for i in range(1, block_size+1):\n",
    "  print(f'for input context: {block[:i]} target is: {block[i]}')"
   ]
  },
  {
   "cell_type": "code",
   "execution_count": 24,
   "id": "29b29e1d-a1ae-49e5-a1b1-f11e6aa4ff52",
   "metadata": {},
   "outputs": [
    {
     "name": "stdout",
     "output_type": "stream",
     "text": [
      "tensor([18, 47, 56, 57, 58,  1, 15, 47])\n",
      "tensor([47, 56, 57, 58,  1, 15, 47, 58])\n"
     ]
    }
   ],
   "source": [
    "# so training examples are defined like this\n",
    "x = train[:block_size]\n",
    "y = train[1:block_size+1]\n",
    "print(x)\n",
    "print(y)"
   ]
  },
  {
   "cell_type": "code",
   "execution_count": 35,
   "id": "48bab30c-e901-4c44-b25a-6d65ae5f4103",
   "metadata": {},
   "outputs": [
    {
     "name": "stdout",
     "output_type": "stream",
     "text": [
      "tensor([13, 33, 32, 27, 24, 37, 15, 33]) tensor([33, 32, 27, 24, 37, 15, 33, 31])\n",
      "for input context: tensor([13]) target is: 33\n",
      "for input context: tensor([13, 33]) target is: 32\n",
      "for input context: tensor([13, 33, 32]) target is: 27\n",
      "for input context: tensor([13, 33, 32, 27]) target is: 24\n",
      "for input context: tensor([13, 33, 32, 27, 24]) target is: 37\n",
      "for input context: tensor([13, 33, 32, 27, 24, 37]) target is: 15\n",
      "for input context: tensor([13, 33, 32, 27, 24, 37, 15]) target is: 33\n",
      "for input context: tensor([13, 33, 32, 27, 24, 37, 15, 33]) target is: 31\n",
      "tensor([ 1, 44, 39, 58, 46, 43, 56,  1]) tensor([44, 39, 58, 46, 43, 56,  1, 44])\n",
      "for input context: tensor([1]) target is: 44\n",
      "for input context: tensor([ 1, 44]) target is: 39\n",
      "for input context: tensor([ 1, 44, 39]) target is: 58\n",
      "for input context: tensor([ 1, 44, 39, 58]) target is: 46\n",
      "for input context: tensor([ 1, 44, 39, 58, 46]) target is: 43\n",
      "for input context: tensor([ 1, 44, 39, 58, 46, 43]) target is: 56\n",
      "for input context: tensor([ 1, 44, 39, 58, 46, 43, 56]) target is: 1\n",
      "for input context: tensor([ 1, 44, 39, 58, 46, 43, 56,  1]) target is: 44\n",
      "tensor([57, 41, 43, 52, 43,  1, 21,  1]) tensor([41, 43, 52, 43,  1, 21,  1, 52])\n",
      "for input context: tensor([57]) target is: 41\n",
      "for input context: tensor([57, 41]) target is: 43\n",
      "for input context: tensor([57, 41, 43]) target is: 52\n",
      "for input context: tensor([57, 41, 43, 52]) target is: 43\n",
      "for input context: tensor([57, 41, 43, 52, 43]) target is: 1\n",
      "for input context: tensor([57, 41, 43, 52, 43,  1]) target is: 21\n",
      "for input context: tensor([57, 41, 43, 52, 43,  1, 21]) target is: 1\n",
      "for input context: tensor([57, 41, 43, 52, 43,  1, 21,  1]) target is: 52\n",
      "tensor([50, 39, 52, 42, 43, 56,  1, 53]) tensor([39, 52, 42, 43, 56,  1, 53, 44])\n",
      "for input context: tensor([50]) target is: 39\n",
      "for input context: tensor([50, 39]) target is: 52\n",
      "for input context: tensor([50, 39, 52]) target is: 42\n",
      "for input context: tensor([50, 39, 52, 42]) target is: 43\n",
      "for input context: tensor([50, 39, 52, 42, 43]) target is: 56\n",
      "for input context: tensor([50, 39, 52, 42, 43, 56]) target is: 1\n",
      "for input context: tensor([50, 39, 52, 42, 43, 56,  1]) target is: 53\n",
      "for input context: tensor([50, 39, 52, 42, 43, 56,  1, 53]) target is: 44\n"
     ]
    }
   ],
   "source": [
    "# we want to work with batches of data as we aren't going to feed in the whole dataset\n",
    "torch.manual_seed(1347)\n",
    "batch_size = 4\n",
    "\n",
    "def get_batch(split):\n",
    "  data = train if split == \"train\" else test\n",
    "  ix = torch.randint(len(data) - block_size, (batch_size,)) # randint range is exclusive\n",
    "  x, y = [], []\n",
    "  for i in ix:\n",
    "    x.append(data[i:i+block_size])\n",
    "    y.append(data[i+1:i+block_size+1])\n",
    "  x = torch.stack(x)\n",
    "  y = torch.stack(y)\n",
    "  return x, y\n",
    "\n",
    "X, Y = get_batch('train')\n",
    "\n",
    "for i in range(batch_size):\n",
    "  x, y = X[i], Y[i]\n",
    "  print(x, y)\n",
    "  for j in range(block_size):\n",
    "    print(f'for input context: {x[:j+1]} target is: {y[j]}')"
   ]
  },
  {
   "cell_type": "code",
   "execution_count": null,
   "id": "9cd851c0-3278-48aa-b557-2f48ef34feef",
   "metadata": {},
   "outputs": [],
   "source": []
  }
 ],
 "metadata": {
  "kernelspec": {
   "display_name": "Python 3 (ipykernel)",
   "language": "python",
   "name": "python3"
  },
  "language_info": {
   "codemirror_mode": {
    "name": "ipython",
    "version": 3
   },
   "file_extension": ".py",
   "mimetype": "text/x-python",
   "name": "python",
   "nbconvert_exporter": "python",
   "pygments_lexer": "ipython3",
   "version": "3.11.9"
  }
 },
 "nbformat": 4,
 "nbformat_minor": 5
}
