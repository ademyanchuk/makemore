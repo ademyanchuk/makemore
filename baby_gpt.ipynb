{
 "cells": [
  {
   "cell_type": "code",
   "execution_count": null,
   "id": "bb36da93-1549-4ba3-983b-b0072c2e18a9",
   "metadata": {},
   "outputs": [],
   "source": [
    "# Work on reimplementing Andrej Karpathy's nano-gpt from this video\n",
    "# https://youtu.be/kCc8FmEb1nY?si=cdnNJrPwDEPQPn0C"
   ]
  },
  {
   "cell_type": "code",
   "execution_count": null,
   "id": "8f8b0799-2eb2-4476-b042-03d9b2197203",
   "metadata": {},
   "outputs": [],
   "source": [
    "import torch\n",
    "import torch.nn.functional as F\n",
    "import matplotlib.pyplot as plt # for making figures\n",
    "%matplotlib inline"
   ]
  }
 ],
 "metadata": {
  "kernelspec": {
   "display_name": "Python 3 (ipykernel)",
   "language": "python",
   "name": "python3"
  },
  "language_info": {
   "codemirror_mode": {
    "name": "ipython",
    "version": 3
   },
   "file_extension": ".py",
   "mimetype": "text/x-python",
   "name": "python",
   "nbconvert_exporter": "python",
   "pygments_lexer": "ipython3",
   "version": "3.11.9"
  }
 },
 "nbformat": 4,
 "nbformat_minor": 5
}
