{
 "cells": [
  {
   "cell_type": "code",
   "execution_count": 1,
   "id": "bb36da93-1549-4ba3-983b-b0072c2e18a9",
   "metadata": {},
   "outputs": [],
   "source": [
    "# Work on reimplementing Andrej Karpathy's nano-gpt from this video\n",
    "# https://youtu.be/kCc8FmEb1nY?si=cdnNJrPwDEPQPn0C"
   ]
  },
  {
   "cell_type": "code",
   "execution_count": 2,
   "id": "8f8b0799-2eb2-4476-b042-03d9b2197203",
   "metadata": {},
   "outputs": [],
   "source": [
    "import torch\n",
    "import torch.nn.functional as F\n",
    "import matplotlib.pyplot as plt # for making figures\n",
    "%matplotlib inline"
   ]
  },
  {
   "cell_type": "code",
   "execution_count": 3,
   "id": "c7d33324-f131-4daf-8e9b-630f9ab3dec4",
   "metadata": {},
   "outputs": [],
   "source": [
    "# load data\n",
    "with open(\"input.txt\", mode='r') as f:\n",
    "  words = f.read()"
   ]
  },
  {
   "cell_type": "code",
   "execution_count": 4,
   "id": "72a207b2-bbe0-429e-9e6d-62b0bc4e43db",
   "metadata": {},
   "outputs": [
    {
     "name": "stdout",
     "output_type": "stream",
     "text": [
      "1115394\n",
      "First Citizen:\n",
      "Before we proceed any further, hear me speak.\n",
      "\n",
      "All:\n",
      "Speak, speak.\n",
      "\n",
      "First Citizen:\n",
      "You are all resolved rather to die than to famish?\n",
      "\n",
      "All:\n",
      "Resolved. resolved.\n",
      "\n",
      "First Citizen:\n",
      "First, you know Caius Marcius is chief enemy to the people.\n",
      "\n",
      "All:\n",
      "We know't, we know't.\n",
      "\n",
      "First Citizen:\n",
      "Let us kill him, and we'll have corn at our own price.\n",
      "Is't a verdict?\n",
      "\n",
      "All:\n",
      "No more talking on't; let it be done: away, away!\n",
      "\n",
      "Second Citizen:\n",
      "One word, good citizens.\n",
      "\n",
      "First Citizen:\n",
      "We are accounted poor citizens, the patricians good.\n",
      "What authority surfeits on would relieve us: if they\n",
      "would yield us but the superfluity, while it were\n",
      "wholesome, we might guess they relieved us humanely;\n",
      "but they think we are too dear: the leanness that\n",
      "afflicts us, the object of our misery, is as an\n",
      "inventory to particularise their abundance; our\n",
      "sufferance is a gain to them Let us revenge this with\n",
      "our pikes, ere we become rakes: for the gods know I\n",
      "speak this in hunger for bread, not in thirst for revenge.\n",
      "\n",
      "\n"
     ]
    }
   ],
   "source": [
    "print(len(words))\n",
    "print(words[:1000])"
   ]
  },
  {
   "cell_type": "code",
   "execution_count": 8,
   "id": "96ffde2f-6d2a-4b72-9673-ce5a0cd24401",
   "metadata": {},
   "outputs": [
    {
     "name": "stdout",
     "output_type": "stream",
     "text": [
      "65\n",
      "['\\n', ' ', '!', '$', '&', \"'\", ',', '-', '.', '3', ':', ';', '?', 'A', 'B', 'C', 'D', 'E', 'F', 'G', 'H', 'I', 'J', 'K', 'L', 'M', 'N', 'O', 'P', 'Q', 'R', 'S', 'T', 'U', 'V', 'W', 'X', 'Y', 'Z', 'a', 'b', 'c', 'd', 'e', 'f', 'g', 'h', 'i', 'j', 'k', 'l', 'm', 'n', 'o', 'p', 'q', 'r', 's', 't', 'u', 'v', 'w', 'x', 'y', 'z']\n"
     ]
    }
   ],
   "source": [
    "# vocab\n",
    "vocab = sorted(set(words))\n",
    "print(len(vocab))\n",
    "print(vocab)"
   ]
  },
  {
   "cell_type": "code",
   "execution_count": 10,
   "id": "2ca03120-fbb5-4281-ad4a-3418514e335f",
   "metadata": {},
   "outputs": [
    {
     "data": {
      "text/plain": [
       "'Is it working?'"
      ]
     },
     "execution_count": 10,
     "metadata": {},
     "output_type": "execute_result"
    }
   ],
   "source": [
    "# simple character level tokenization\n",
    "stoi = {c:i for i,c in enumerate(vocab)}\n",
    "itos = {i:c for i,c in enumerate(vocab)}\n",
    "# encode and decode functions\n",
    "encode = lambda s: [stoi[c] for c in s]\n",
    "decode = lambda l: ''.join([itos[i] for i in l])\n",
    "\n",
    "decode(encode('Is it working?'))"
   ]
  },
  {
   "cell_type": "code",
   "execution_count": null,
   "id": "18e2e876-acf3-49ff-ae29-e82e05fd1667",
   "metadata": {},
   "outputs": [],
   "source": []
  }
 ],
 "metadata": {
  "kernelspec": {
   "display_name": "Python 3 (ipykernel)",
   "language": "python",
   "name": "python3"
  },
  "language_info": {
   "codemirror_mode": {
    "name": "ipython",
    "version": 3
   },
   "file_extension": ".py",
   "mimetype": "text/x-python",
   "name": "python",
   "nbconvert_exporter": "python",
   "pygments_lexer": "ipython3",
   "version": "3.11.9"
  }
 },
 "nbformat": 4,
 "nbformat_minor": 5
}
