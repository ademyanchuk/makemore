{
 "cells": [
  {
   "cell_type": "code",
   "execution_count": 1,
   "metadata": {},
   "outputs": [],
   "source": [
    "import torch\n",
    "import torch.nn.functional as F\n",
    "import matplotlib.pyplot as plt # for making figures\n",
    "%matplotlib inline"
   ]
  },
  {
   "cell_type": "code",
   "execution_count": 2,
   "metadata": {},
   "outputs": [
    {
     "data": {
      "text/plain": [
       "['emma', 'olivia', 'ava', 'isabella', 'sophia', 'charlotte', 'mia', 'amelia']"
      ]
     },
     "execution_count": 2,
     "metadata": {},
     "output_type": "execute_result"
    }
   ],
   "source": [
    "# read in all the words\n",
    "words = open('names.txt', 'r').read().splitlines()\n",
    "words[:8]"
   ]
  },
  {
   "cell_type": "code",
   "execution_count": 3,
   "metadata": {},
   "outputs": [
    {
     "data": {
      "text/plain": [
       "32033"
      ]
     },
     "execution_count": 3,
     "metadata": {},
     "output_type": "execute_result"
    }
   ],
   "source": [
    "len(words)"
   ]
  },
  {
   "cell_type": "code",
   "execution_count": 4,
   "metadata": {},
   "outputs": [
    {
     "name": "stdout",
     "output_type": "stream",
     "text": [
      "{1: 'a', 2: 'b', 3: 'c', 4: 'd', 5: 'e', 6: 'f', 7: 'g', 8: 'h', 9: 'i', 10: 'j', 11: 'k', 12: 'l', 13: 'm', 14: 'n', 15: 'o', 16: 'p', 17: 'q', 18: 'r', 19: 's', 20: 't', 21: 'u', 22: 'v', 23: 'w', 24: 'x', 25: 'y', 26: 'z', 0: '.'}\n"
     ]
    }
   ],
   "source": [
    "# build the vocabulary of characters and mappings to/from integers\n",
    "chars = sorted(list(set(''.join(words))))\n",
    "stoi = {s:i+1 for i,s in enumerate(chars)}\n",
    "stoi['.'] = 0\n",
    "itos = {i:s for s,i in stoi.items()}\n",
    "print(itos)"
   ]
  },
  {
   "cell_type": "code",
   "execution_count": 5,
   "metadata": {},
   "outputs": [],
   "source": [
    "# build the dataset\n",
    "\n",
    "block_size = 3 # context length: how many characters do we take to predict the next one?\n",
    "X, Y = [], []\n",
    "for w in words:\n",
    "  \n",
    "  #print(w)\n",
    "  context = [0] * block_size\n",
    "  for ch in w + '.':\n",
    "    ix = stoi[ch]\n",
    "    X.append(context)\n",
    "    Y.append(ix)\n",
    "    #print(''.join(itos[i] for i in context), '--->', itos[ix])\n",
    "    context = context[1:] + [ix] # crop and append\n",
    "  \n",
    "X = torch.tensor(X)\n",
    "Y = torch.tensor(Y)"
   ]
  },
  {
   "cell_type": "code",
   "execution_count": 6,
   "metadata": {},
   "outputs": [
    {
     "data": {
      "text/plain": [
       "(torch.Size([228146, 3]), torch.int64, torch.Size([228146]), torch.int64)"
      ]
     },
     "execution_count": 6,
     "metadata": {},
     "output_type": "execute_result"
    }
   ],
   "source": [
    "X.shape, X.dtype, Y.shape, Y.dtype"
   ]
  },
  {
   "cell_type": "code",
   "execution_count": 7,
   "metadata": {},
   "outputs": [
    {
     "name": "stdout",
     "output_type": "stream",
     "text": [
      "torch.Size([182546, 3]) torch.Size([182546])\n",
      "torch.Size([22840, 3]) torch.Size([22840])\n",
      "torch.Size([22760, 3]) torch.Size([22760])\n"
     ]
    }
   ],
   "source": [
    "# build the dataset\n",
    "block_size = 3 # context length: how many characters do we take to predict the next one?\n",
    "\n",
    "def build_dataset(words):  \n",
    "  X, Y = [], []\n",
    "  for w in words:\n",
    "\n",
    "    #print(w)\n",
    "    context = [0] * block_size\n",
    "    for ch in w + '.':\n",
    "      ix = stoi[ch]\n",
    "      X.append(context)\n",
    "      Y.append(ix)\n",
    "      #print(''.join(itos[i] for i in context), '--->', itos[ix])\n",
    "      context = context[1:] + [ix] # crop and append\n",
    "\n",
    "  X = torch.tensor(X)\n",
    "  Y = torch.tensor(Y)\n",
    "  print(X.shape, Y.shape)\n",
    "  return X, Y\n",
    "\n",
    "import random\n",
    "r = random.Random(2147483647)\n",
    "r.shuffle(words)\n",
    "n1 = int(0.8*len(words))\n",
    "n2 = int(0.9*len(words))\n",
    "\n",
    "Xtr, Ytr = build_dataset(words[:n1])\n",
    "Xdev, Ydev = build_dataset(words[n1:n2])\n",
    "Xte, Yte = build_dataset(words[n2:])\n"
   ]
  },
  {
   "cell_type": "code",
   "execution_count": 9,
   "metadata": {},
   "outputs": [
    {
     "data": {
      "text/plain": [
       "(['khole', 'harbour', 'devon', 'baine', 'erisha'],\n",
       " ['shterna', 'tyanna', 'sarra', 'malachy', 'zenaya'],\n",
       " ['phoenyx', 'christionna', 'bastien', 'niloufar', 'masa'])"
      ]
     },
     "execution_count": 9,
     "metadata": {},
     "output_type": "execute_result"
    }
   ],
   "source": [
    "words[:n1][:5], words[n1:n2][:5], words[n2:][:5]"
   ]
  },
  {
   "cell_type": "code",
   "execution_count": 10,
   "metadata": {},
   "outputs": [],
   "source": [
    "C = torch.randn((27, 2))"
   ]
  },
  {
   "cell_type": "code",
   "execution_count": 23,
   "metadata": {},
   "outputs": [
    {
     "data": {
      "text/plain": [
       "torch.Size([32, 3, 2])"
      ]
     },
     "execution_count": 23,
     "metadata": {},
     "output_type": "execute_result"
    }
   ],
   "source": [
    "emb = C[X[:32]]\n",
    "emb.shape"
   ]
  },
  {
   "cell_type": "code",
   "execution_count": 24,
   "metadata": {},
   "outputs": [],
   "source": [
    "W1 = torch.randn((6, 100))\n",
    "b1 = torch.randn(100)"
   ]
  },
  {
   "cell_type": "code",
   "execution_count": 25,
   "metadata": {},
   "outputs": [],
   "source": [
    "h = torch.tanh(emb.view(-1, 6) @ W1 + b1)"
   ]
  },
  {
   "cell_type": "code",
   "execution_count": 26,
   "metadata": {},
   "outputs": [
    {
     "data": {
      "text/plain": [
       "tensor([[ 0.9989,  0.8550,  0.6693,  ...,  0.9986, -0.9986, -0.2366],\n",
       "        [ 0.9997,  0.9603, -0.7415,  ...,  0.9999, -0.7308, -0.1602],\n",
       "        [ 0.9992,  0.9906, -0.9774,  ...,  1.0000,  0.9986,  0.6506],\n",
       "        ...,\n",
       "        [-0.7896, -0.0796,  0.9912,  ..., -0.6622, -0.9910, -0.9892],\n",
       "        [-0.0458, -0.0474, -0.8244,  ..., -0.7113, -0.1635,  0.1926],\n",
       "        [ 0.9100,  0.9785, -0.6377,  ...,  1.0000, -0.9737, -0.9221]])"
      ]
     },
     "execution_count": 26,
     "metadata": {},
     "output_type": "execute_result"
    }
   ],
   "source": [
    "h"
   ]
  },
  {
   "cell_type": "code",
   "execution_count": 27,
   "metadata": {},
   "outputs": [
    {
     "data": {
      "text/plain": [
       "torch.Size([32, 100])"
      ]
     },
     "execution_count": 27,
     "metadata": {},
     "output_type": "execute_result"
    }
   ],
   "source": [
    "h.shape"
   ]
  },
  {
   "cell_type": "code",
   "execution_count": 28,
   "metadata": {},
   "outputs": [],
   "source": [
    "W2 = torch.randn((100, 27))\n",
    "b2 = torch.randn(27)"
   ]
  },
  {
   "cell_type": "code",
   "execution_count": 29,
   "metadata": {},
   "outputs": [],
   "source": [
    "logits = h @ W2 + b2"
   ]
  },
  {
   "cell_type": "code",
   "execution_count": 30,
   "metadata": {},
   "outputs": [
    {
     "data": {
      "text/plain": [
       "torch.Size([32, 27])"
      ]
     },
     "execution_count": 30,
     "metadata": {},
     "output_type": "execute_result"
    }
   ],
   "source": [
    "logits.shape"
   ]
  },
  {
   "cell_type": "code",
   "execution_count": 31,
   "metadata": {},
   "outputs": [],
   "source": [
    "counts = logits.exp()"
   ]
  },
  {
   "cell_type": "code",
   "execution_count": 32,
   "metadata": {},
   "outputs": [],
   "source": [
    "prob = counts / counts.sum(1, keepdims=True)"
   ]
  },
  {
   "cell_type": "code",
   "execution_count": 33,
   "metadata": {},
   "outputs": [
    {
     "data": {
      "text/plain": [
       "torch.Size([32, 27])"
      ]
     },
     "execution_count": 33,
     "metadata": {},
     "output_type": "execute_result"
    }
   ],
   "source": [
    "prob.shape"
   ]
  },
  {
   "cell_type": "code",
   "execution_count": 34,
   "metadata": {},
   "outputs": [
    {
     "data": {
      "text/plain": [
       "tensor(17.8203)"
      ]
     },
     "execution_count": 34,
     "metadata": {},
     "output_type": "execute_result"
    }
   ],
   "source": [
    "loss = -prob[torch.arange(32), Y[:32]].log().mean()\n",
    "loss"
   ]
  },
  {
   "cell_type": "code",
   "execution_count": null,
   "metadata": {},
   "outputs": [],
   "source": [
    "# ------------ now made respectable :) ---------------"
   ]
  },
  {
   "cell_type": "code",
   "execution_count": 132,
   "metadata": {},
   "outputs": [
    {
     "data": {
      "text/plain": [
       "(torch.Size([182546, 3]), torch.Size([182546]))"
      ]
     },
     "execution_count": 132,
     "metadata": {},
     "output_type": "execute_result"
    }
   ],
   "source": [
    "Xtr.shape, Ytr.shape # dataset"
   ]
  },
  {
   "cell_type": "code",
   "execution_count": 338,
   "metadata": {},
   "outputs": [],
   "source": [
    "g = torch.Generator().manual_seed(2147483647) # for reproducibility\n",
    "emb_size = 15\n",
    "C = torch.randn((27, emb_size), generator=g)\n",
    "W1 = torch.randn((emb_size * block_size, 512), generator=g)\n",
    "b1 = torch.randn(512, generator=g)\n",
    "W2 = torch.randn((512, 256), generator=g)\n",
    "b2 = torch.randn(256, generator=g)\n",
    "W3 = torch.randn((256, 27), generator=g)\n",
    "b3 = torch.randn(27, generator=g)\n",
    "parameters = [C, W1, b1, W2, b2, W3, b3]"
   ]
  },
  {
   "cell_type": "code",
   "execution_count": 339,
   "metadata": {},
   "outputs": [
    {
     "data": {
      "text/plain": [
       "162224"
      ]
     },
     "execution_count": 339,
     "metadata": {},
     "output_type": "execute_result"
    }
   ],
   "source": [
    "sum(p.nelement() for p in parameters) # number of parameters in total"
   ]
  },
  {
   "cell_type": "code",
   "execution_count": 340,
   "metadata": {},
   "outputs": [],
   "source": [
    "for p in parameters:\n",
    "  p.requires_grad = True"
   ]
  },
  {
   "cell_type": "code",
   "execution_count": 335,
   "metadata": {},
   "outputs": [],
   "source": [
    "lre = torch.linspace(-3, 1, 1000)\n",
    "lrs = 10**lre"
   ]
  },
  {
   "cell_type": "code",
   "execution_count": 336,
   "metadata": {},
   "outputs": [],
   "source": [
    "# find learning rate\n",
    "lri = []\n",
    "lossi = []\n",
    "\n",
    "for i in range(1000):\n",
    "  \n",
    "  # minibatch construct\n",
    "  ix = torch.randint(0, Xtr.shape[0], (256,))\n",
    "  \n",
    "  # forward pass\n",
    "  emb = C[Xtr[ix]] # (32, 3, 10)\n",
    "  h1 = torch.tanh(emb.view(-1, emb_size * block_size) @ W1 + b1)\n",
    "  h2 = torch.tanh(h1 @ W2 + b2)\n",
    "  logits = h2 @ W3 + b3 # (32, 27)\n",
    "  reg_loss = 0.5 * sum([(p**2).mean() for p in parameters])\n",
    "  loss = F.cross_entropy(logits, Ytr[ix]) + reg_loss\n",
    "  #print(loss.item())\n",
    "  \n",
    "  # backward pass\n",
    "  for p in parameters:\n",
    "    p.grad = None\n",
    "  loss.backward()\n",
    "  \n",
    "  # update\n",
    "  lr = lrs[i]\n",
    "  for p in parameters:\n",
    "    p.data += -lr * p.grad\n",
    "\n",
    "  # track stats\n",
    "  lri.append(lre[i])\n",
    "  lossi.append(loss.item())\n",
    "\n",
    "#print(loss.item())"
   ]
  },
  {
   "cell_type": "code",
   "execution_count": 337,
   "metadata": {},
   "outputs": [
    {
     "data": {
      "text/plain": [
       "[<matplotlib.lines.Line2D at 0x1f55866ae10>]"
      ]
     },
     "execution_count": 337,
     "metadata": {},
     "output_type": "execute_result"
    },
    {
     "data": {
      "image/png": "[encoded data removed]",
      "text/plain": [
       "<Figure size 640x480 with 1 Axes>"
      ]
     },
     "metadata": {},
     "output_type": "display_data"
    }
   ],
   "source": [
    "plt.plot(lri, lossi)"
   ]
  },
  {
   "cell_type": "code",
   "execution_count": 341,
   "metadata": {},
   "outputs": [],
   "source": [
    "lossi = []\n",
    "for i in range(300000):\n",
    "  \n",
    "  # minibatch construct (use same batch sequencies across experiments)\n",
    "  ix = torch.randint(0, Xtr.shape[0], (256,), generator=g)\n",
    "  \n",
    "  # forward pass\n",
    "  emb = C[Xtr[ix]] # (minibatch size, block size, embeeding size)\n",
    "  h1 = torch.tanh(emb.view(-1, emb_size * block_size) @ W1 + b1)\n",
    "  h2 = torch.tanh(h1 @ W2 + b2)\n",
    "  logits = h2 @ W3 + b3 # (32, 27)\n",
    "  reg_loss = 0.5 * sum([(p**2).mean() for p in parameters])\n",
    "  loss = F.cross_entropy(logits, Ytr[ix]) + reg_loss\n",
    "  #print(loss.item())\n",
    "  \n",
    "  # backward pass\n",
    "  for p in parameters:\n",
    "    p.grad = None\n",
    "  loss.backward()\n",
    "  \n",
    "  # update\n",
    "  lr = 0.2 if i < 150000 else 0.02\n",
    "  for p in parameters:\n",
    "    p.data += -lr * p.grad\n",
    "\n",
    "  # track stats\n",
    "  #lri.append(lre[i])\n",
    "  lossi.append(loss.log10().item())\n",
    "\n",
    "#print(loss.item())"
   ]
  },
  {
   "cell_type": "code",
   "execution_count": 342,
   "metadata": {},
   "outputs": [
    {
     "data": {
      "text/plain": [
       "[<matplotlib.lines.Line2D at 0x1f55818ccd0>]"
      ]
     },
     "execution_count": 342,
     "metadata": {},
     "output_type": "execute_result"
    },
    {
     "data": {
      "image/png": "[encoded data removed]",
      "text/plain": [
       "<Figure size 640x480 with 1 Axes>"
      ]
     },
     "metadata": {},
     "output_type": "display_data"
    }
   ],
   "source": [
    "plt.plot(lossi)"
   ]
  },
  {
   "cell_type": "code",
   "execution_count": 343,
   "metadata": {},
   "outputs": [
    {
     "data": {
      "text/plain": [
       "tensor(1.9744, grad_fn=<NllLossBackward0>)"
      ]
     },
     "execution_count": 343,
     "metadata": {},
     "output_type": "execute_result"
    }
   ],
   "source": [
    "emb = C[Xtr] # (Xtr size, 3, 2)\n",
    "h1 = torch.tanh(emb.view(-1, emb_size * block_size) @ W1 + b1)\n",
    "h2 = torch.tanh(h1 @ W2 + b2)\n",
    "logits = h2 @ W3 + b3 # (32, 27)\n",
    "loss = F.cross_entropy(logits, Ytr)\n",
    "loss"
   ]
  },
  {
   "cell_type": "code",
   "execution_count": 344,
   "metadata": {},
   "outputs": [
    {
     "data": {
      "text/plain": [
       "tensor(2.1024, grad_fn=<NllLossBackward0>)"
      ]
     },
     "execution_count": 344,
     "metadata": {},
     "output_type": "execute_result"
    }
   ],
   "source": [
    "emb = C[Xdev] # (Xdev size, 3, 2)\n",
    "h1 = torch.tanh(emb.view(-1, emb_size * block_size) @ W1 + b1)\n",
    "h2 = torch.tanh(h1 @ W2 + b2)\n",
    "logits = h2 @ W3 + b3 # (32, 27)\n",
    "loss = F.cross_entropy(logits, Ydev)\n",
    "loss"
   ]
  },
  {
   "cell_type": "code",
   "execution_count": null,
   "metadata": {},
   "outputs": [],
   "source": [
    "# AK original hyperparameters [embeding size: 10, hlayer: 200, init lr: 0.1, decayed lr: 0.01, decay after 100000 iters, epochs: 200000, bs: 32]. Loss: tr=2.1294, dev=2.1858\n",
    "# lr with loss deeper in find lr [embeding size: 10, hlayer: 200, init lr: 0.2, decayed lr: 0.02, decay after 100000 iters, epochs: 200000, bs: 32]. Loss: tr=2.1194, dev=2.1850\n",
    "# train longer? [embeding size: 10, hlayer: 200, init lr: 0.2, decayed lr: 0.02, decay after 150000 iters, epochs: 300000, bs: 32]. Loss: tr=2.0984, dev=2.1716\n",
    "# larger embeeding? [embeding size: 15, hlayer: 200, init lr: 0.2, decayed lr: 0.02, decay after 150000 iters, epochs: 300000, bs: 32]. Loss: tr=2.0893, dev=2.1738\n",
    "# larger minibatch? [embeding size: 10, hlayer: 200, init lr: 0.2, decayed lr: 0.02, decay after 150000 iters, epochs: 300000, bs: 128]. Loss: tr=2.0447, dev=2.1331\n",
    "# larger minibatch? [embeding size: 10, hlayer: 200, init lr: 0.2, decayed lr: 0.02, decay after 150000 iters, epochs: 300000, bs: 256]. Loss: tr=2.0449, dev=2.1295\n",
    "# larger minibatch? [embeding size: 10, hlayer: 200, init lr: 0.2, decayed lr: 0.02, decay after 150000 iters, epochs: 300000, bs: 512]. Loss: tr=2.0529, dev=2.1313\n",
    "# larger hidden layer? [embeding size: 10, hlayer: 256, init lr: 0.2, decayed lr: 0.02, decay after 150000 iters, epochs: 300000, bs: 256]. Loss: tr=2.0347, dev=2.1314\n",
    "# larger hidden layer? [embeding size: 10, hlayer: 512, init lr: 0.2, decayed lr: 0.02, decay after 150000 iters, epochs: 300000, bs: 256]. Loss: tr=1.9835, dev=2.1572\n",
    "# reg loss [embeding size: 10, hlayer: 512, init lr: 0.2, decayed lr: 0.02, decay after 150000 iters, epochs: 300000, bs: 256, reg strength: 0.001]. Loss: tr=1.9872, dev=2.1477\n",
    "# reg loss [embeding size: 10, hlayer: 512, init lr: 0.2, decayed lr: 0.02, decay after 150000 iters, epochs: 300000, bs: 256, reg strength: 0.01]. Loss: tr=1.9907, dev=2.1452\n",
    "# With reg loss established, things tend to improve with larger capacity network\n",
    "# reg loss [embeding size: 10, hlayer: 512, init lr: 0.2, decayed lr: 0.02, decay after 150000 iters, epochs: 300000, bs: 256, reg strength: 0.1]. Loss: tr=1.9845, dev=2.1002\n",
    "# reg loss [embeding size: 10, hlayer: 512, init lr: 0.2, decayed lr: 0.02, decay after 150000 iters, epochs: 300000, bs: 256, reg strength: 0.5]. Loss: tr=2.0300, dev=2.0951\n",
    "# reg loss [embeding size: 15, hlayer: 512, init lr: 0.2, decayed lr: 0.02, decay after 150000 iters, epochs: 300000, bs: 256, reg strength: 0.5]. Loss: tr=1.9902, dev=2.0797\n",
    "# reg loss [embeding size: 15, hlayer: 512, init lr: 0.3, decayed lr: 0.03, decay after 150000 iters, epochs: 300000, bs: 256, reg strength: 0.5]. Loss: tr=1.9888, dev=2.0806\n",
    "# relu [embeding size: 15, hlayer: 512, init lr: 0.2, decayed lr: 0.02, decay after 150000 iters, epochs: 300000, bs: 256, reg strength: 0.5]. Loss: tr=2.0206, dev=2.0926\n",
    "\n",
    "# 2 hiden layers [embeding size: 15, hlayer: [512,256], init lr: 0.2, decayed lr: 0.02, decay after 150000 iters, epochs: 300000, bs: 256, reg strength: 0.5]. Loss: tr=1.9744, dev=2.1024"
   ]
  },
  {
   "cell_type": "code",
   "execution_count": 710,
   "metadata": {},
   "outputs": [
    {
     "data": {
      "image/png": "[encoded data removed]",
      "text/plain": [
       "<Figure size 576x576 with 1 Axes>"
      ]
     },
     "metadata": {
      "needs_background": "light"
     },
     "output_type": "display_data"
    }
   ],
   "source": [
    "# visualize dimensions 0 and 1 of the embedding matrix C for all characters\n",
    "plt.figure(figsize=(8,8))\n",
    "plt.scatter(C[:,0].data, C[:,1].data, s=200)\n",
    "for i in range(C.shape[0]):\n",
    "    plt.text(C[i,0].item(), C[i,1].item(), itos[i], ha=\"center\", va=\"center\", color='white')\n",
    "plt.grid('minor')"
   ]
  },
  {
   "cell_type": "code",
   "execution_count": null,
   "metadata": {},
   "outputs": [],
   "source": [
    "# training split, dev/validation split, test split\n",
    "# 80%, 10%, 10%"
   ]
  },
  {
   "cell_type": "code",
   "execution_count": 52,
   "metadata": {},
   "outputs": [
    {
     "data": {
      "text/plain": [
       "torch.Size([1, 3, 10])"
      ]
     },
     "execution_count": 52,
     "metadata": {},
     "output_type": "execute_result"
    }
   ],
   "source": [
    "context = [0] * block_size\n",
    "C[torch.tensor([context])].shape"
   ]
  },
  {
   "cell_type": "code",
   "execution_count": 53,
   "metadata": {},
   "outputs": [
    {
     "name": "stdout",
     "output_type": "stream",
     "text": [
      "mora.\n",
      "mayah.\n",
      "seel.\n",
      "nihahalorenyas.\n",
      "endra.\n",
      "grazeredotlin.\n",
      "shyloen.\n",
      "edeckenna.\n",
      "artelynn.\n",
      "sharlin.\n",
      "shubergyairiel.\n",
      "kinde.\n",
      "jelionniella.\n",
      "uby.\n",
      "geder.\n",
      "yuruf.\n",
      "elsyn.\n",
      "ajavonnyda.\n",
      "hil.\n",
      "salynn.\n"
     ]
    }
   ],
   "source": [
    "\n",
    "\n",
    "# sample from the model\n",
    "g = torch.Generator().manual_seed(2147483647 + 10)\n",
    "\n",
    "for _ in range(20):\n",
    "    \n",
    "    out = []\n",
    "    context = [0] * block_size # initialize with all ...\n",
    "    while True:\n",
    "      emb = C[torch.tensor([context])] # (1,block_size,d)\n",
    "      h = torch.tanh(emb.view(1, -1) @ W1 + b1)\n",
    "      logits = h @ W2 + b2\n",
    "      probs = F.softmax(logits, dim=1)\n",
    "      ix = torch.multinomial(probs, num_samples=1, generator=g).item()\n",
    "      context = context[1:] + [ix]\n",
    "      out.append(ix)\n",
    "      if ix == 0:\n",
    "        break\n",
    "    \n",
    "    print(''.join(itos[i] for i in out))"
   ]
  },
  {
   "cell_type": "code",
   "execution_count": null,
   "metadata": {},
   "outputs": [],
   "source": []
  }
 ],
 "metadata": {
  "kernelspec": {
   "display_name": "Python 3 (ipykernel)",
   "language": "python",
   "name": "python3"
  },
  "language_info": {
   "codemirror_mode": {
    "name": "ipython",
    "version": 3
   },
   "file_extension": ".py",
   "mimetype": "text/x-python",
   "name": "python",
   "nbconvert_exporter": "python",
   "pygments_lexer": "ipython3",
   "version": "3.11.9"
  }
 },
 "nbformat": 4,
 "nbformat_minor": 4
}
