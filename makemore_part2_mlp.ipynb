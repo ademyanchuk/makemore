{
 "cells": [
  {
   "cell_type": "code",
   "execution_count": 1,
   "metadata": {},
   "outputs": [],
   "source": [
    "import torch\n",
    "import torch.nn.functional as F\n",
    "import matplotlib.pyplot as plt # for making figures\n",
    "%matplotlib inline"
   ]
  },
  {
   "cell_type": "code",
   "execution_count": 2,
   "metadata": {},
   "outputs": [
    {
     "data": {
      "text/plain": [
       "['emma', 'olivia', 'ava', 'isabella', 'sophia', 'charlotte', 'mia', 'amelia']"
      ]
     },
     "execution_count": 2,
     "metadata": {},
     "output_type": "execute_result"
    }
   ],
   "source": [
    "# read in all the words\n",
    "words = open('names.txt', 'r').read().splitlines()\n",
    "words[:8]"
   ]
  },
  {
   "cell_type": "code",
   "execution_count": 3,
   "metadata": {},
   "outputs": [
    {
     "data": {
      "text/plain": [
       "32033"
      ]
     },
     "execution_count": 3,
     "metadata": {},
     "output_type": "execute_result"
    }
   ],
   "source": [
    "len(words)"
   ]
  },
  {
   "cell_type": "code",
   "execution_count": 4,
   "metadata": {},
   "outputs": [
    {
     "name": "stdout",
     "output_type": "stream",
     "text": [
      "{1: 'a', 2: 'b', 3: 'c', 4: 'd', 5: 'e', 6: 'f', 7: 'g', 8: 'h', 9: 'i', 10: 'j', 11: 'k', 12: 'l', 13: 'm', 14: 'n', 15: 'o', 16: 'p', 17: 'q', 18: 'r', 19: 's', 20: 't', 21: 'u', 22: 'v', 23: 'w', 24: 'x', 25: 'y', 26: 'z', 0: '.'}\n"
     ]
    }
   ],
   "source": [
    "# build the vocabulary of characters and mappings to/from integers\n",
    "chars = sorted(list(set(''.join(words))))\n",
    "stoi = {s:i+1 for i,s in enumerate(chars)}\n",
    "stoi['.'] = 0\n",
    "itos = {i:s for s,i in stoi.items()}\n",
    "print(itos)"
   ]
  },
  {
   "cell_type": "code",
   "execution_count": 5,
   "metadata": {},
   "outputs": [],
   "source": [
    "# build the dataset\n",
    "\n",
    "block_size = 3 # context length: how many characters do we take to predict the next one?\n",
    "X, Y = [], []\n",
    "for w in words:\n",
    "  \n",
    "  #print(w)\n",
    "  context = [0] * block_size\n",
    "  for ch in w + '.':\n",
    "    ix = stoi[ch]\n",
    "    X.append(context)\n",
    "    Y.append(ix)\n",
    "    #print(''.join(itos[i] for i in context), '--->', itos[ix])\n",
    "    context = context[1:] + [ix] # crop and append\n",
    "  \n",
    "X = torch.tensor(X)\n",
    "Y = torch.tensor(Y)"
   ]
  },
  {
   "cell_type": "code",
   "execution_count": 6,
   "metadata": {},
   "outputs": [
    {
     "data": {
      "text/plain": [
       "(torch.Size([228146, 3]), torch.int64, torch.Size([228146]), torch.int64)"
      ]
     },
     "execution_count": 6,
     "metadata": {},
     "output_type": "execute_result"
    }
   ],
   "source": [
    "X.shape, X.dtype, Y.shape, Y.dtype"
   ]
  },
  {
   "cell_type": "code",
   "execution_count": 7,
   "metadata": {},
   "outputs": [
    {
     "name": "stdout",
     "output_type": "stream",
     "text": [
      "torch.Size([182546, 4]) torch.Size([182546])\n",
      "torch.Size([22840, 4]) torch.Size([22840])\n",
      "torch.Size([22760, 4]) torch.Size([22760])\n"
     ]
    }
   ],
   "source": [
    "# build the dataset\n",
    "block_size = 4 # context length: how many characters do we take to predict the next one?\n",
    "\n",
    "def build_dataset(words):  \n",
    "  X, Y = [], []\n",
    "  for w in words:\n",
    "\n",
    "    #print(w)\n",
    "    context = [0] * block_size\n",
    "    for ch in w + '.':\n",
    "      ix = stoi[ch]\n",
    "      X.append(context)\n",
    "      Y.append(ix)\n",
    "      #print(''.join(itos[i] for i in context), '--->', itos[ix])\n",
    "      context = context[1:] + [ix] # crop and append\n",
    "\n",
    "  X = torch.tensor(X)\n",
    "  Y = torch.tensor(Y)\n",
    "  print(X.shape, Y.shape)\n",
    "  return X, Y\n",
    "\n",
    "import random\n",
    "r = random.Random(2147483647)\n",
    "r.shuffle(words)\n",
    "n1 = int(0.8*len(words))\n",
    "n2 = int(0.9*len(words))\n",
    "\n",
    "Xtr, Ytr = build_dataset(words[:n1])\n",
    "Xdev, Ydev = build_dataset(words[n1:n2])\n",
    "Xte, Yte = build_dataset(words[n2:])\n"
   ]
  },
  {
   "cell_type": "code",
   "execution_count": 8,
   "metadata": {},
   "outputs": [
    {
     "data": {
      "text/plain": [
       "(['khole', 'harbour', 'devon', 'baine', 'erisha'],\n",
       " ['shterna', 'tyanna', 'sarra', 'malachy', 'zenaya'],\n",
       " ['phoenyx', 'christionna', 'bastien', 'niloufar', 'masa'])"
      ]
     },
     "execution_count": 8,
     "metadata": {},
     "output_type": "execute_result"
    }
   ],
   "source": [
    "words[:n1][:5], words[n1:n2][:5], words[n2:][:5]"
   ]
  },
  {
   "cell_type": "code",
   "execution_count": 9,
   "metadata": {},
   "outputs": [],
   "source": [
    "C = torch.randn((27, 2))"
   ]
  },
  {
   "cell_type": "code",
   "execution_count": 10,
   "metadata": {},
   "outputs": [
    {
     "data": {
      "text/plain": [
       "torch.Size([32, 3, 2])"
      ]
     },
     "execution_count": 10,
     "metadata": {},
     "output_type": "execute_result"
    }
   ],
   "source": [
    "emb = C[X[:32]]\n",
    "emb.shape"
   ]
  },
  {
   "cell_type": "code",
   "execution_count": 11,
   "metadata": {},
   "outputs": [],
   "source": [
    "W1 = torch.randn((6, 100))\n",
    "b1 = torch.randn(100)"
   ]
  },
  {
   "cell_type": "code",
   "execution_count": 12,
   "metadata": {},
   "outputs": [],
   "source": [
    "h = torch.tanh(emb.view(-1, 6) @ W1 + b1)"
   ]
  },
  {
   "cell_type": "code",
   "execution_count": 13,
   "metadata": {},
   "outputs": [
    {
     "data": {
      "text/plain": [
       "tensor([[ 0.9451, -0.0595, -0.5417,  ...,  0.9689,  0.3147, -0.9997],\n",
       "        [ 0.9637, -0.4113, -0.6137,  ...,  0.9037,  0.5153, -0.9997],\n",
       "        [ 1.0000, -0.9898, -0.9972,  ...,  0.9841,  0.9999, -0.6239],\n",
       "        ...,\n",
       "        [ 0.9974,  0.7850, -0.9778,  ..., -0.7685,  0.9871,  0.2487],\n",
       "        [ 0.9787, -0.7700, -0.5126,  ..., -0.9884,  0.5715, -0.6885],\n",
       "        [ 0.8685, -0.1113,  0.2319,  ..., -0.8159, -0.9972, -0.9483]])"
      ]
     },
     "execution_count": 13,
     "metadata": {},
     "output_type": "execute_result"
    }
   ],
   "source": [
    "h"
   ]
  },
  {
   "cell_type": "code",
   "execution_count": 14,
   "metadata": {},
   "outputs": [
    {
     "data": {
      "text/plain": [
       "torch.Size([32, 100])"
      ]
     },
     "execution_count": 14,
     "metadata": {},
     "output_type": "execute_result"
    }
   ],
   "source": [
    "h.shape"
   ]
  },
  {
   "cell_type": "code",
   "execution_count": 15,
   "metadata": {},
   "outputs": [],
   "source": [
    "W2 = torch.randn((100, 27))\n",
    "b2 = torch.randn(27)"
   ]
  },
  {
   "cell_type": "code",
   "execution_count": 16,
   "metadata": {},
   "outputs": [],
   "source": [
    "logits = h @ W2 + b2"
   ]
  },
  {
   "cell_type": "code",
   "execution_count": 17,
   "metadata": {},
   "outputs": [
    {
     "data": {
      "text/plain": [
       "torch.Size([32, 27])"
      ]
     },
     "execution_count": 17,
     "metadata": {},
     "output_type": "execute_result"
    }
   ],
   "source": [
    "logits.shape"
   ]
  },
  {
   "cell_type": "code",
   "execution_count": 18,
   "metadata": {},
   "outputs": [],
   "source": [
    "counts = logits.exp()"
   ]
  },
  {
   "cell_type": "code",
   "execution_count": 19,
   "metadata": {},
   "outputs": [],
   "source": [
    "prob = counts / counts.sum(1, keepdims=True)"
   ]
  },
  {
   "cell_type": "code",
   "execution_count": 20,
   "metadata": {},
   "outputs": [
    {
     "data": {
      "text/plain": [
       "torch.Size([32, 27])"
      ]
     },
     "execution_count": 20,
     "metadata": {},
     "output_type": "execute_result"
    }
   ],
   "source": [
    "prob.shape"
   ]
  },
  {
   "cell_type": "code",
   "execution_count": 21,
   "metadata": {},
   "outputs": [
    {
     "data": {
      "text/plain": [
       "tensor(23.4241)"
      ]
     },
     "execution_count": 21,
     "metadata": {},
     "output_type": "execute_result"
    }
   ],
   "source": [
    "loss = -prob[torch.arange(32), Y[:32]].log().mean()\n",
    "loss"
   ]
  },
  {
   "cell_type": "code",
   "execution_count": 22,
   "metadata": {},
   "outputs": [],
   "source": [
    "# E02: I was not careful with the intialization of the network in this video. \n",
    "# (1) What is the loss you'd get if the predicted probabilities at initialization were perfectly uniform? What loss do we achieve? \n",
    "# (2) Can you tune the initialization to get a starting loss that is much more similar to (1)?"
   ]
  },
  {
   "cell_type": "code",
   "execution_count": 23,
   "metadata": {},
   "outputs": [
    {
     "data": {
      "text/plain": [
       "tensor(3.2958)"
      ]
     },
     "execution_count": 23,
     "metadata": {},
     "output_type": "execute_result"
    }
   ],
   "source": [
    "# perfectly uniform probabilities for 27 classes are 1/27\n",
    "# lets compute nll over this probability\n",
    "-torch.log(torch.tensor(1/27))"
   ]
  },
  {
   "cell_type": "code",
   "execution_count": 24,
   "metadata": {},
   "outputs": [
    {
     "data": {
      "text/plain": [
       "tensor(3.2958)"
      ]
     },
     "execution_count": 24,
     "metadata": {},
     "output_type": "execute_result"
    }
   ],
   "source": [
    "# to get perfectly uniform probabilities from network we need to initialize weights with same value\n",
    "# that brings symmetry, all neurons will produce same activations and gradients, and\n",
    "# eventually we can't learn anything. But to confirm init loss for uniformly distributed probs lets do it\n",
    "C = torch.ones((27, 2))\n",
    "emb = C[X[:32]]\n",
    "W1 = torch.ones(6, 100)\n",
    "b1 = torch.zeros(100)\n",
    "h = torch.tanh(emb.view(-1, 6) @ W1 + b1)\n",
    "W2 = torch.ones((100, 27))\n",
    "b2 = torch.zeros(27)\n",
    "logits = h @ W2 + b2\n",
    "\n",
    "# logits -= logits.max() # for numerical stability\n",
    "# counts = logits.exp()\n",
    "# prob = counts / counts.sum(1, keepdims=True)\n",
    "# -prob[torch.arange(32), Y[:32]].log().mean()\n",
    "\n",
    "# or with X-entropy\n",
    "F.cross_entropy(logits, Y[:32])"
   ]
  },
  {
   "cell_type": "code",
   "execution_count": 25,
   "metadata": {},
   "outputs": [],
   "source": [
    "# Lets go ahead and take a look at what loss do we achieve with naive initialization. See below.\n",
    "# To answer the (2) we want less spread [variance] for our neuron weights, and as far as we learned elsewhere\n",
    "# if s = w*x, then var(s) = n*var(w)*var(x) [n is the number of inputs into weights matrix w]. To make activation\n",
    "# variance closer to 1 (not exploding, not vanishing activations), we need to scale weights by sqrt(1/n) or \n",
    "# for relu networks (as their variance already reduced by half) by sqrt(2/n)\n",
    "# And as we can see below, by using this neat trick we can have loss at init to be very close to fully uniform init loss"
   ]
  },
  {
   "cell_type": "code",
   "execution_count": 26,
   "metadata": {},
   "outputs": [],
   "source": [
    "# ------------ now made respectable :) ---------------"
   ]
  },
  {
   "cell_type": "code",
   "execution_count": 27,
   "metadata": {},
   "outputs": [
    {
     "data": {
      "text/plain": [
       "(torch.Size([182546, 4]), torch.Size([182546]))"
      ]
     },
     "execution_count": 27,
     "metadata": {},
     "output_type": "execute_result"
    }
   ],
   "source": [
    "Xtr.shape, Ytr.shape # dataset"
   ]
  },
  {
   "cell_type": "code",
   "execution_count": 113,
   "metadata": {},
   "outputs": [],
   "source": [
    "g = torch.Generator().manual_seed(2147483647) # for reproducibility\n",
    "emb_size = 10\n",
    "C = torch.randn((27, emb_size), generator=g) * (2/27)**0.5\n",
    "W1 = torch.randn((emb_size * block_size, 512), generator=g) * (2/(emb_size * block_size))**0.5\n",
    "b1 = torch.zeros(512)\n",
    "W2 = torch.randn((512, 27), generator=g) * (2/527)**0.5\n",
    "b2 = torch.zeros(27)\n",
    "parameters = [C, W1, b1, W2, b2]"
   ]
  },
  {
   "cell_type": "code",
   "execution_count": 50,
   "metadata": {},
   "outputs": [
    {
     "name": "stdout",
     "output_type": "stream",
     "text": [
      "Naive initialization loss: 41.57704544067383\n"
     ]
    }
   ],
   "source": [
    "emb = C[Xtr] # (Xtr size, 3, 2)\n",
    "h = torch.tanh(emb.view(-1, emb_size * block_size) @ W1 + b1)\n",
    "logits = h @ W2 + b2 # (32, 27)\n",
    "loss = F.cross_entropy(logits, Ytr)\n",
    "print(f'Naive initialization loss: {loss}')"
   ]
  },
  {
   "cell_type": "code",
   "execution_count": 114,
   "metadata": {},
   "outputs": [
    {
     "name": "stdout",
     "output_type": "stream",
     "text": [
      "Scaled initialization loss: 3.4736976623535156\n"
     ]
    }
   ],
   "source": [
    "emb = C[Xtr] # (Xtr size, 3, 2)\n",
    "h = F.relu(emb.view(-1, emb_size * block_size) @ W1 + b1)\n",
    "logits = h @ W2 + b2 # (32, 27)\n",
    "loss = F.cross_entropy(logits, Ytr)\n",
    "print(f'Scaled initialization loss: {loss}')"
   ]
  },
  {
   "cell_type": "code",
   "execution_count": 115,
   "metadata": {},
   "outputs": [
    {
     "data": {
      "text/plain": [
       "35113"
      ]
     },
     "execution_count": 115,
     "metadata": {},
     "output_type": "execute_result"
    }
   ],
   "source": [
    "sum(p.nelement() for p in parameters) # number of parameters in total"
   ]
  },
  {
   "cell_type": "code",
   "execution_count": 116,
   "metadata": {},
   "outputs": [],
   "source": [
    "for p in parameters:\n",
    "  p.requires_grad = True"
   ]
  },
  {
   "cell_type": "code",
   "execution_count": 110,
   "metadata": {},
   "outputs": [],
   "source": [
    "lre = torch.linspace(-6, 0, 1000)\n",
    "lrs = 10**lre"
   ]
  },
  {
   "cell_type": "code",
   "execution_count": 111,
   "metadata": {},
   "outputs": [],
   "source": [
    "# find learning rate\n",
    "lri = []\n",
    "lossi = []\n",
    "\n",
    "for i in range(1000):\n",
    "  \n",
    "  # minibatch construct\n",
    "  ix = torch.randint(0, Xtr.shape[0], (256,))\n",
    "  \n",
    "  # forward pass\n",
    "  emb = C[Xtr[ix]] # (32, 3, 10)\n",
    "  h = F.relu(emb.view(-1, emb_size * block_size) @ W1 + b1)\n",
    "  logits = h @ W2 + b2 # (32, 27)\n",
    "  loss = F.cross_entropy(logits, Ytr[ix])\n",
    "  #print(loss.item())\n",
    "  \n",
    "  # backward pass\n",
    "  for p in parameters:\n",
    "    p.grad = None\n",
    "  loss.backward()\n",
    "  \n",
    "  # update\n",
    "  lr = lrs[i]\n",
    "  for p in parameters:\n",
    "    p.data += -lr * p.grad\n",
    "\n",
    "  # track stats\n",
    "  lri.append(lre[i])\n",
    "  lossi.append(loss.item())\n",
    "\n",
    "#print(loss.item())"
   ]
  },
  {
   "cell_type": "code",
   "execution_count": 112,
   "metadata": {},
   "outputs": [
    {
     "data": {
      "text/plain": [
       "[<matplotlib.lines.Line2D at 0x241f201ffd0>]"
      ]
     },
     "execution_count": 112,
     "metadata": {},
     "output_type": "execute_result"
    },
    {
     "data": {
      "image/png": "[encoded data removed]",
      "text/plain": [
       "<Figure size 640x480 with 1 Axes>"
      ]
     },
     "metadata": {},
     "output_type": "display_data"
    }
   ],
   "source": [
    "plt.plot(lri, lossi)"
   ]
  },
  {
   "cell_type": "code",
   "execution_count": 117,
   "metadata": {},
   "outputs": [],
   "source": [
    "lossi = []\n",
    "reg_strength = 1.0\n",
    "for i in range(200000):\n",
    "  \n",
    "  # minibatch construct (use same batch sequencies across experiments)\n",
    "  ix = torch.randint(0, Xtr.shape[0], (512,), generator=g)\n",
    "  \n",
    "  # forward pass\n",
    "  emb = C[Xtr[ix]] # (minibatch size, block size, embeeding size)\n",
    "  h = F.relu(emb.view(-1, emb_size * block_size) @ W1 + b1)\n",
    "  logits = h @ W2 + b2 # (32, 27)\n",
    "  reg_loss = 0.5 * reg_strength * sum([(p**2).mean() for p in parameters]) # const 0.5 for better gradient = reg_strength * p\n",
    "  loss = F.cross_entropy(logits, Ytr[ix]) + reg_loss\n",
    "  #print(loss.item())\n",
    "  \n",
    "  # backward pass\n",
    "  for p in parameters:\n",
    "    p.grad = None\n",
    "  loss.backward()\n",
    "  \n",
    "  # update\n",
    "  lr = 0.2 if i < 100000 else 0.02\n",
    "  for p in parameters:\n",
    "    p.data += -lr * p.grad\n",
    "\n",
    "  # track stats\n",
    "  #lri.append(lre[i])\n",
    "  lossi.append(loss.log10().item())\n",
    "\n",
    "#print(loss.item())"
   ]
  },
  {
   "cell_type": "code",
   "execution_count": 118,
   "metadata": {},
   "outputs": [
    {
     "data": {
      "text/plain": [
       "[<matplotlib.lines.Line2D at 0x241f20c6050>]"
      ]
     },
     "execution_count": 118,
     "metadata": {},
     "output_type": "execute_result"
    },
    {
     "data": {
      "image/png": "[encoded data removed]",
      "text/plain": [
       "<Figure size 640x480 with 1 Axes>"
      ]
     },
     "metadata": {},
     "output_type": "display_data"
    }
   ],
   "source": [
    "plt.plot(lossi)"
   ]
  },
  {
   "cell_type": "code",
   "execution_count": 119,
   "metadata": {},
   "outputs": [
    {
     "data": {
      "text/plain": [
       "tensor(1.9096, grad_fn=<NllLossBackward0>)"
      ]
     },
     "execution_count": 119,
     "metadata": {},
     "output_type": "execute_result"
    }
   ],
   "source": [
    "emb = C[Xtr] # (Xtr size, 3, 2)\n",
    "h = F.relu(emb.view(-1, emb_size * block_size) @ W1 + b1)\n",
    "logits = h @ W2 + b2 # (32, 27)\n",
    "loss = F.cross_entropy(logits, Ytr)\n",
    "loss"
   ]
  },
  {
   "cell_type": "code",
   "execution_count": 120,
   "metadata": {},
   "outputs": [
    {
     "data": {
      "text/plain": [
       "tensor(2.0232, grad_fn=<NllLossBackward0>)"
      ]
     },
     "execution_count": 120,
     "metadata": {},
     "output_type": "execute_result"
    }
   ],
   "source": [
    "emb = C[Xdev] # (Xdev size, 3, 2)\n",
    "h = F.relu(emb.view(-1, emb_size * block_size) @ W1 + b1)\n",
    "logits = h @ W2 + b2 # (32, 27)\n",
    "loss = F.cross_entropy(logits, Ydev)\n",
    "loss"
   ]
  },
  {
   "cell_type": "code",
   "execution_count": null,
   "metadata": {},
   "outputs": [],
   "source": [
    "# AK original hyperparameters [embeding size: 10, hlayer: 200, init lr: 0.1, decayed lr: 0.01, decay after 100000 iters, epochs: 200000, bs: 32]. Loss: tr=2.1294, dev=2.1858\n",
    "# lr with loss deeper in find lr [embeding size: 10, hlayer: 200, init lr: 0.2, decayed lr: 0.02, decay after 100000 iters, epochs: 200000, bs: 32]. Loss: tr=2.1194, dev=2.1850\n",
    "# train longer? [embeding size: 10, hlayer: 200, init lr: 0.2, decayed lr: 0.02, decay after 150000 iters, epochs: 300000, bs: 32]. Loss: tr=2.0984, dev=2.1716\n",
    "# larger embeeding? [embeding size: 15, hlayer: 200, init lr: 0.2, decayed lr: 0.02, decay after 150000 iters, epochs: 300000, bs: 32]. Loss: tr=2.0893, dev=2.1738\n",
    "# larger minibatch? [embeding size: 10, hlayer: 200, init lr: 0.2, decayed lr: 0.02, decay after 150000 iters, epochs: 300000, bs: 128]. Loss: tr=2.0447, dev=2.1331\n",
    "# larger minibatch? [embeding size: 10, hlayer: 200, init lr: 0.2, decayed lr: 0.02, decay after 150000 iters, epochs: 300000, bs: 256]. Loss: tr=2.0449, dev=2.1295\n",
    "# larger minibatch? [embeding size: 10, hlayer: 200, init lr: 0.2, decayed lr: 0.02, decay after 150000 iters, epochs: 300000, bs: 512]. Loss: tr=2.0529, dev=2.1313\n",
    "# larger hidden layer? [embeding size: 10, hlayer: 256, init lr: 0.2, decayed lr: 0.02, decay after 150000 iters, epochs: 300000, bs: 256]. Loss: tr=2.0347, dev=2.1314\n",
    "# larger hidden layer? [embeding size: 10, hlayer: 512, init lr: 0.2, decayed lr: 0.02, decay after 150000 iters, epochs: 300000, bs: 256]. Loss: tr=1.9835, dev=2.1572\n",
    "# reg loss [embeding size: 10, hlayer: 512, init lr: 0.2, decayed lr: 0.02, decay after 150000 iters, epochs: 300000, bs: 256, reg strength: 0.001]. Loss: tr=1.9872, dev=2.1477\n",
    "# reg loss [embeding size: 10, hlayer: 512, init lr: 0.2, decayed lr: 0.02, decay after 150000 iters, epochs: 300000, bs: 256, reg strength: 0.01]. Loss: tr=1.9907, dev=2.1452\n",
    "# With reg loss established, things tend to improve with larger capacity network\n",
    "# reg loss [embeding size: 10, hlayer: 512, init lr: 0.2, decayed lr: 0.02, decay after 150000 iters, epochs: 300000, bs: 256, reg strength: 0.1]. Loss: tr=1.9845, dev=2.1002\n",
    "# reg loss [embeding size: 10, hlayer: 512, init lr: 0.2, decayed lr: 0.02, decay after 150000 iters, epochs: 300000, bs: 256, reg strength: 0.5]. Loss: tr=2.0300, dev=2.0951\n",
    "# reg loss [embeding size: 15, hlayer: 512, init lr: 0.2, decayed lr: 0.02, decay after 150000 iters, epochs: 300000, bs: 256, reg strength: 0.5]. Loss: tr=1.9902, dev=2.0797\n",
    "# reg loss [embeding size: 15, hlayer: 512, init lr: 0.3, decayed lr: 0.03, decay after 150000 iters, epochs: 300000, bs: 256, reg strength: 0.5]. Loss: tr=1.9888, dev=2.0806\n",
    "# relu [embeding size: 15, hlayer: 512, init lr: 0.2, decayed lr: 0.02, decay after 150000 iters, epochs: 300000, bs: 256, reg strength: 0.5]. Loss: tr=2.0206, dev=2.0926\n",
    "\n",
    "# proper init [embeding size: 15, hlayer: 512, init lr: 0.2, decayed lr: 0.02, decay after 150000 iters, epochs: 300000, bs: 256, reg strength: 1.*]. Loss: tr=2.0313, dev=2.0974\n",
    "# proper init [embeding size: 15, hlayer: 512, init lr: 0.1, decayed lr: 0.01, decay after 100000 iters, epochs: 200000, bs: 256, reg strength: 1.*]. Loss: tr=2.0690, dev=2.1160\n",
    "# proper init [embeding size: 15, hlayer: 512, init lr: 0.1, decayed lr: 0.01, decay after 150000 iters, epochs: 300000, bs: 256, reg strength: 1.*]. Loss: tr=2.0464, dev=2.1036\n",
    "# proper init [embeding size: 15, hlayer: 512, init lr: 0.2, decayed lr: 0.02, decay after 150000 iters, epochs: 300000, bs: 256, reg strength: 0.1*]. Loss: tr=1.9206, dev=2.0972\n",
    "# proper init [embeding size: 15, hlayer: 512, init lr: 0.2, decayed lr: 0.02, decay after 150000 iters, epochs: 300000, bs: 256, reg strength: 0.5*]. Loss: tr=1.9721, dev=2.0820\n",
    "# proper init [embeding size: 15, hlayer: 512, lrs: [0.2,0.04,0.02], decay after [100k, 200k], epochs: 300000, bs: 256, reg strength: 0.5*]. Loss: tr=1.987, dev=2.0833\n",
    "# proper init [embeding size: 15, hlayer: 512, lrs: [0.2,0.04], decay after [200k], epochs: 300000, bs: 256, reg strength: 0.5*]. Loss: tr=1.9673, dev=2.0848\n",
    "# proper init [embeding size: 15, hlayer: 512, lrs: [0.2,0.04], decay after [150k], epochs: 300000, bs: 256, reg strength: 0.5*]. Loss: tr=1.9726, dev=2.0856\n",
    "# proper init [embeding size: 15, hlayer: 512, lrs: [0.2,0.02], decay after [150k], epochs: 300000, bs: 256, reg strength: 0.25*]. Loss: tr=1.9418, dev=2.0847\n",
    "# proper init [embeding size: 15, hlayer: 512, init lr: 0.2, decayed lr: 0.02, decay after 150000 iters, epochs: 300000, bs: 512, reg strength: 0.5*]. Loss: tr=1.9573, dev=2.0793\n",
    "# proper init relu [embeding size: 15, hlayer: 512, init lr: 0.2, decayed lr: 0.02, decay after 150000 iters, epochs: 300000, bs: 512, reg strength: 0.5*]. Loss: tr=1.9568, dev=2.0759  /with relu loss drops much faster/\n",
    "# proper init relu [embeding size: 15, hlayer: 512, init lr: 0.2, decayed lr: 0.02, decay after 70000 iters, epochs: 100000, bs: 512, reg strength: 0.5*]. Loss: tr=1.9830, dev=2.0800\n",
    "# proper init relu [embeding size: 10, hlayer: 512, init lr: 0.2, decayed lr: 0.02, decay after 70000 iters, epochs: 100000, bs: 512, reg strength: 0.5*]. Loss: tr=2.0140, dev=2.0893\n",
    "\n",
    "# block size 4 [embeding size: 10, hlayer: 512, init lr: 0.2, decayed lr: 0.02, decay after 70000 iters, epochs: 100000, bs: 512, reg strength: 0.5*]. Loss: tr=1.8875, dev=2.0257\n",
    "# block size 4 [embeding size: 10, hlayer: 512, init lr: 0.2, decayed lr: 0.02, decay after 100000 iters, epochs: 200000, bs: 512, reg strength: 0.5*]. Loss: tr=1.8615, dev=2.0243\n",
    "# block size 4 [embeding size: 10, hlayer: 512, init lr: 0.1, decayed lr: 0.02, decay after 100000 iters, epochs: 200000, bs: 512, reg strength: 0.5*]. Loss: tr=1.8981, dev=2.0298\n",
    "# block size 4 [embeding size: 10, hlayer: 512, init lr: 0.2, decayed lr: 0.02, decay after 100000 iters, epochs: 200000, bs: 512, reg strength: 1.0*]. Loss: tr=1.9045, dev=2.0233, test=2.0120\n",
    "\n",
    "# C init, block size 4 [embeding size: 10, hlayer: 512, init lr: 0.2, decayed lr: 0.02, decay after 100000 iters, epochs: 200000, bs: 512, reg strength: 1.0*]. Loss: tr=1.9096, dev=2.0232, 2.0153\n",
    "\n",
    "# 2 hiden layers [embeding size: 15, hlayer: [512,256], init lr: 0.2, decayed lr: 0.02, decay after 150000 iters, epochs: 300000, bs: 256, reg strength: 0.5]. Loss: tr=1.9744, dev=2.1024\n",
    "\n",
    "# *after introducing 0.5 constant to regularization loss for simplier gradient term"
   ]
  },
  {
   "cell_type": "code",
   "execution_count": 121,
   "metadata": {},
   "outputs": [
    {
     "data": {
      "text/plain": [
       "tensor(2.0153, grad_fn=<NllLossBackward0>)"
      ]
     },
     "execution_count": 121,
     "metadata": {},
     "output_type": "execute_result"
    }
   ],
   "source": [
    "emb = C[Xte]\n",
    "h = F.relu(emb.view(-1, emb_size * block_size) @ W1 + b1)\n",
    "logits = h @ W2 + b2\n",
    "loss = F.cross_entropy(logits, Yte)\n",
    "loss"
   ]
  },
  {
   "cell_type": "code",
   "execution_count": 710,
   "metadata": {},
   "outputs": [
    {
     "data": {
      "image/png": "[encoded data removed]",
      "text/plain": [
       "<Figure size 576x576 with 1 Axes>"
      ]
     },
     "metadata": {
      "needs_background": "light"
     },
     "output_type": "display_data"
    }
   ],
   "source": [
    "# visualize dimensions 0 and 1 of the embedding matrix C for all characters\n",
    "plt.figure(figsize=(8,8))\n",
    "plt.scatter(C[:,0].data, C[:,1].data, s=200)\n",
    "for i in range(C.shape[0]):\n",
    "    plt.text(C[i,0].item(), C[i,1].item(), itos[i], ha=\"center\", va=\"center\", color='white')\n",
    "plt.grid('minor')"
   ]
  },
  {
   "cell_type": "code",
   "execution_count": null,
   "metadata": {},
   "outputs": [],
   "source": [
    "# training split, dev/validation split, test split\n",
    "# 80%, 10%, 10%"
   ]
  },
  {
   "cell_type": "code",
   "execution_count": 52,
   "metadata": {},
   "outputs": [
    {
     "data": {
      "text/plain": [
       "torch.Size([1, 3, 10])"
      ]
     },
     "execution_count": 52,
     "metadata": {},
     "output_type": "execute_result"
    }
   ],
   "source": [
    "context = [0] * block_size\n",
    "C[torch.tensor([context])].shape"
   ]
  },
  {
   "cell_type": "code",
   "execution_count": 125,
   "metadata": {},
   "outputs": [
    {
     "name": "stdout",
     "output_type": "stream",
     "text": [
      "reena.\n",
      "kriston.\n",
      "gara.\n",
      "nearyan.\n",
      "naker.\n",
      "malyah.\n",
      "roxane.\n",
      "kyree.\n",
      "meev.\n",
      "hamelle.\n",
      "krishiannaliee.\n",
      "kenli.\n",
      "maurik.\n",
      "deles.\n",
      "lorena.\n",
      "wassiduq.\n",
      "resle.\n",
      "monser.\n",
      "aflarijalyna.\n",
      "merah.\n"
     ]
    }
   ],
   "source": [
    "\n",
    "\n",
    "# sample from the model\n",
    "g = torch.Generator().manual_seed(2147483647 + 11)\n",
    "\n",
    "for _ in range(20):\n",
    "    \n",
    "    out = []\n",
    "    context = [0] * block_size # initialize with all ...\n",
    "    while True:\n",
    "      emb = C[torch.tensor([context])] # (1,block_size,d)\n",
    "      h = F.relu(emb.view(1, -1) @ W1 + b1)\n",
    "      logits = h @ W2 + b2\n",
    "      probs = F.softmax(logits, dim=1)\n",
    "      ix = torch.multinomial(probs, num_samples=1, generator=g).item()\n",
    "      context = context[1:] + [ix]\n",
    "      out.append(ix)\n",
    "      if ix == 0:\n",
    "        break\n",
    "    \n",
    "    print(''.join(itos[i] for i in out))"
   ]
  },
  {
   "cell_type": "code",
   "execution_count": null,
   "metadata": {},
   "outputs": [],
   "source": []
  }
 ],
 "metadata": {
  "kernelspec": {
   "display_name": "Python 3 (ipykernel)",
   "language": "python",
   "name": "python3"
  },
  "language_info": {
   "codemirror_mode": {
    "name": "ipython",
    "version": 3
   },
   "file_extension": ".py",
   "mimetype": "text/x-python",
   "name": "python",
   "nbconvert_exporter": "python",
   "pygments_lexer": "ipython3",
   "version": "3.11.9"
  }
 },
 "nbformat": 4,
 "nbformat_minor": 4
}
